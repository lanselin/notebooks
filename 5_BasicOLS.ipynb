{
 "metadata": {
  "name": "5_BasicOLS"
 },
 "nbformat": 3,
 "nbformat_minor": 0,
 "worksheets": [
  {
   "cells": [
    {
     "cell_type": "heading",
     "level": 2,
     "metadata": {},
     "source": [
      "Basic OLS Regression - non-spatial diagnostics"
     ]
    },
    {
     "cell_type": "markdown",
     "metadata": {},
     "source": [
      "*by Luc Anselin* --  <a href=\"mailto:luc.anselin@asu.edu\">luc.anselin@asu.edu</a>\n",
      "\n",
      "Lab Exercise Notes Accompanying Spring 2013 *Spatial Regression* Course\n",
      "\n",
      "(updated 7/4/2013)"
     ]
    },
    {
     "cell_type": "markdown",
     "metadata": {},
     "source": [
      "**Objectives**\n",
      "\n",
      "* basic regression setup (create variable arrays)\n",
      "\n",
      "* the **spreg OLS** user class\n",
      "\n",
      "* non-spatial regression diagnostics"
     ]
    },
    {
     "cell_type": "markdown",
     "metadata": {},
     "source": [
      "**Preliminaries**\n",
      "\n",
      "* import **numpy** and **pysal**\n",
      "\n",
      "we won't use a shortcut to pysal (yet) just to remind you where it is used"
     ]
    },
    {
     "cell_type": "code",
     "collapsed": false,
     "input": [
      "import numpy as np\n",
      "import pysal"
     ],
     "language": "python",
     "metadata": {},
     "outputs": [],
     "prompt_number": 1
    },
    {
     "cell_type": "markdown",
     "metadata": {},
     "source": [
      "Basic logic of regression analysis in **spreg** \n",
      "\n",
      "* create a data object\n",
      "\n",
      "* create variables as numpy arrays\n",
      "\n",
      "* call the **OLS** user class"
     ]
    },
    {
     "cell_type": "markdown",
     "metadata": {},
     "source": [
      "###Setting up the Variables###"
     ]
    },
    {
     "cell_type": "markdown",
     "metadata": {},
     "source": [
      "**Data Object**"
     ]
    },
    {
     "cell_type": "markdown",
     "metadata": {},
     "source": [
      "as before, we are assuming the sample data are in the **data** subdirectory, if not, the proper path needs to be specified"
     ]
    },
    {
     "cell_type": "code",
     "collapsed": false,
     "input": [
      "db = pysal.open(\"data/baltim.dbf\",'r')"
     ],
     "language": "python",
     "metadata": {},
     "outputs": [],
     "prompt_number": 3
    },
    {
     "cell_type": "markdown",
     "metadata": {},
     "source": [
      "**Read in Variables and Create Numpy Arrays**"
     ]
    },
    {
     "cell_type": "markdown",
     "metadata": {},
     "source": [
      "read in dependent variable and turn into numpy array y"
     ]
    },
    {
     "cell_type": "code",
     "collapsed": false,
     "input": [
      "y_name = \"PRICE\""
     ],
     "language": "python",
     "metadata": {},
     "outputs": [],
     "prompt_number": 4
    },
    {
     "cell_type": "code",
     "collapsed": false,
     "input": [
      "y = np.array([db.by_col(y_name)]).T"
     ],
     "language": "python",
     "metadata": {},
     "outputs": [],
     "prompt_number": 5
    },
    {
     "cell_type": "code",
     "collapsed": false,
     "input": [
      "y.shape"
     ],
     "language": "python",
     "metadata": {},
     "outputs": [
      {
       "output_type": "pyout",
       "prompt_number": 6,
       "text": [
        "(211, 1)"
       ]
      }
     ],
     "prompt_number": 6
    },
    {
     "cell_type": "markdown",
     "metadata": {},
     "source": [
      "read in explanatory variables and turn into numpy array x, do **not** include a constant term"
     ]
    },
    {
     "cell_type": "code",
     "collapsed": false,
     "input": [
      "x_names = ['NROOM','NBATH','PATIO','FIREPL','AC','GAR','AGE','LOTSZ','SQFT']\n",
      "x = np.array([db.by_col(var) for var in x_names]).T"
     ],
     "language": "python",
     "metadata": {},
     "outputs": [],
     "prompt_number": 7
    },
    {
     "cell_type": "code",
     "collapsed": false,
     "input": [
      "x.shape"
     ],
     "language": "python",
     "metadata": {},
     "outputs": [
      {
       "output_type": "pyout",
       "prompt_number": 8,
       "text": [
        "(211, 9)"
       ]
      }
     ],
     "prompt_number": 8
    },
    {
     "cell_type": "markdown",
     "metadata": {},
     "source": [
      "###OLS###"
     ]
    },
    {
     "cell_type": "markdown",
     "metadata": {},
     "source": [
      "default arguments for basic **OLS** call: **y** and **x** as numpy arrays\n",
      "\n",
      "x **never** includes a constant term in a call to **OLS**"
     ]
    },
    {
     "cell_type": "markdown",
     "metadata": {},
     "source": [
      "**Creating a Regression Object**"
     ]
    },
    {
     "cell_type": "code",
     "collapsed": false,
     "input": [
      "ols1 = pysal.spreg.OLS(y,x)"
     ],
     "language": "python",
     "metadata": {},
     "outputs": [],
     "prompt_number": 9
    },
    {
     "cell_type": "markdown",
     "metadata": {},
     "source": [
      "Attributes of the OLS object"
     ]
    },
    {
     "cell_type": "code",
     "collapsed": true,
     "input": [
      "dir(ols1)"
     ],
     "language": "python",
     "metadata": {},
     "outputs": [
      {
       "output_type": "pyout",
       "prompt_number": 10,
       "text": [
        "['__doc__',\n",
        " '__init__',\n",
        " '__module__',\n",
        " '__summary',\n",
        " '_cache',\n",
        " 'aic',\n",
        " 'ar2',\n",
        " 'betas',\n",
        " 'breusch_pagan',\n",
        " 'f_stat',\n",
        " 'jarque_bera',\n",
        " 'k',\n",
        " 'koenker_bassett',\n",
        " 'logll',\n",
        " 'mean_y',\n",
        " 'mulColli',\n",
        " 'n',\n",
        " 'name_ds',\n",
        " 'name_gwk',\n",
        " 'name_w',\n",
        " 'name_x',\n",
        " 'name_y',\n",
        " 'predy',\n",
        " 'r2',\n",
        " 'robust',\n",
        " 'schwarz',\n",
        " 'sig2',\n",
        " 'sig2ML',\n",
        " 'sig2n',\n",
        " 'sig2n_k',\n",
        " 'std_err',\n",
        " 'std_y',\n",
        " 'summary',\n",
        " 't_stat',\n",
        " 'title',\n",
        " 'u',\n",
        " 'utu',\n",
        " 'vm',\n",
        " 'white',\n",
        " 'x',\n",
        " 'xtx',\n",
        " 'xtxi',\n",
        " 'y']"
       ]
      }
     ],
     "prompt_number": 10
    },
    {
     "cell_type": "markdown",
     "metadata": {},
     "source": [
      "Use the **summary** method for a nice printout"
     ]
    },
    {
     "cell_type": "markdown",
     "metadata": {},
     "source": [
      "note how the data set, variable names, etc. are unspecified or generic, because we have not set the corresponding arguments (more later)\n",
      "\n",
      "the non-spatial diagnostics are included by default"
     ]
    },
    {
     "cell_type": "code",
     "collapsed": false,
     "input": [
      "print ols1.summary"
     ],
     "language": "python",
     "metadata": {},
     "outputs": [
      {
       "output_type": "stream",
       "stream": "stdout",
       "text": [
        "REGRESSION\n",
        "----------\n",
        "SUMMARY OF OUTPUT: ORDINARY LEAST SQUARES\n",
        "-----------------------------------------\n",
        "Data set            :     unknown\n",
        "Dependent Variable  :     dep_var               Number of Observations:         211\n",
        "Mean dependent var  :     44.3072               Number of Variables   :          10\n",
        "S.D. dependent var  :     23.6061               Degrees of Freedom    :         201\n",
        "\n",
        "R-squared           :    0.649976\n",
        "Adjusted R-squared  :      0.6343\n",
        "Sum squared residual:   40960.463               F-statistic           :     41.4718\n",
        "Sigma-square        :     203.783               Prob(F-statistic)     :    3.24e-41\n",
        "S.E. of regression  :      14.275               Log likelihood        :    -855.223\n",
        "Sigma-square ML     :     194.125               Akaike info criterion :    1730.446\n",
        "S.E of regression ML:     13.9329               Schwarz criterion     :    1763.965\n",
        "\n",
        "------------------------------------------------------------------------------------\n",
        "            Variable     Coefficient       Std.Error     t-Statistic     Probability\n",
        "------------------------------------------------------------------------------------\n",
        "            CONSTANT      23.2699963       5.2241658       4.4542989       0.0000140\n",
        "               var_1       0.2224935       1.2279277       0.1811943       0.8563976\n",
        "               var_2       5.6484051       2.0182820       2.7986204       0.0056318\n",
        "               var_3      10.3358755       3.1202987       3.3124635       0.0010966\n",
        "               var_4      11.1727277       2.7323132       4.0891094       0.0000626\n",
        "               var_5       7.8541637       2.7024343       2.9063292       0.0040671\n",
        "               var_6       5.4020685       1.9636140       2.7510848       0.0064824\n",
        "               var_7      -0.2134550       0.0573535      -3.7217456       0.0002568\n",
        "               var_8       0.0949064       0.0165355       5.7395480       0.0000000\n",
        "               var_9       0.1877562       0.1890598       0.9931047       0.3218530\n",
        "------------------------------------------------------------------------------------\n",
        "\n",
        "REGRESSION DIAGNOSTICS\n",
        "MULTICOLLINEARITY CONDITION NUMBER        20.609256\n",
        "\n",
        "TEST ON NORMALITY OF ERRORS\n",
        "TEST                             DF        VALUE           PROB\n",
        "Jarque-Bera                       2      429.933020        0.0000000\n",
        "\n",
        "DIAGNOSTICS FOR HETEROSKEDASTICITY\n",
        "RANDOM COEFFICIENTS\n",
        "TEST                             DF        VALUE           PROB\n",
        "Breusch-Pagan test                9      167.791834        0.0000000\n",
        "Koenker-Bassett test              9       39.197493        0.0000106\n",
        "\n",
        "SPECIFICATION ROBUST TEST\n",
        "TEST                             DF        VALUE           PROB\n",
        "White                            51      164.335342        0.0000000\n",
        "================================ END OF REPORT =====================================\n"
       ]
      }
     ],
     "prompt_number": 12
    },
    {
     "cell_type": "markdown",
     "metadata": {},
     "source": [
      "**Selected Attributes of the OLS Oject**"
     ]
    },
    {
     "cell_type": "markdown",
     "metadata": {},
     "source": [
      "Coefficient vector **betas**"
     ]
    },
    {
     "cell_type": "markdown",
     "metadata": {},
     "source": [
      "the coefficients are listed in the order in which the variables were arranged in the x array, with the constant first"
     ]
    },
    {
     "cell_type": "code",
     "collapsed": false,
     "input": [
      "ols1.betas"
     ],
     "language": "python",
     "metadata": {},
     "outputs": [
      {
       "output_type": "pyout",
       "prompt_number": 14,
       "text": [
        "array([[ 23.26999634],\n",
        "       [  0.22249352],\n",
        "       [  5.64840507],\n",
        "       [ 10.33587549],\n",
        "       [ 11.17272765],\n",
        "       [  7.85416373],\n",
        "       [  5.40206849],\n",
        "       [ -0.21345497],\n",
        "       [  0.09490639],\n",
        "       [  0.18775621]])"
       ]
      }
     ],
     "prompt_number": 14
    },
    {
     "cell_type": "markdown",
     "metadata": {},
     "source": [
      "Coefficient variance matrix **vm**"
     ]
    },
    {
     "cell_type": "code",
     "collapsed": true,
     "input": [
      "ols1.vm"
     ],
     "language": "python",
     "metadata": {},
     "outputs": [
      {
       "output_type": "pyout",
       "prompt_number": 15,
       "text": [
        "array([[  2.72919087e+01,  -4.91639179e+00,  -1.38431739e+00,\n",
        "          1.15195197e+00,   2.70605549e+00,  -1.26888512e+00,\n",
        "          2.29158284e+00,  -8.81513019e-02,  -1.33463786e-02,\n",
        "          2.39757338e-01],\n",
        "       [ -4.91639179e+00,   1.50780641e+00,  -6.00311860e-01,\n",
        "         -2.20185500e-01,  -3.65516995e-01,  -2.42481422e-01,\n",
        "         -3.69632421e-01,  -5.68099520e-03,   1.58696655e-03,\n",
        "         -1.00420096e-01],\n",
        "       [ -1.38431739e+00,  -6.00311860e-01,   4.07346218e+00,\n",
        "          4.21728603e-01,  -3.78365011e-01,  -7.91056304e-01,\n",
        "          1.06219135e-01,   1.43549275e-02,  -1.22214762e-03,\n",
        "         -1.25018528e-01],\n",
        "       [  1.15195197e+00,  -2.20185500e-01,   4.21728603e-01,\n",
        "          9.73626402e+00,  -1.15952218e-01,  -1.02817269e+00,\n",
        "         -1.44827118e-01,   1.90878476e-02,  -8.24268969e-03,\n",
        "         -1.07566027e-01],\n",
        "       [  2.70605549e+00,  -3.65516995e-01,  -3.78365011e-01,\n",
        "         -1.15952218e-01,   7.46553562e+00,  -7.78090730e-01,\n",
        "         -7.88692362e-01,  -7.22016782e-04,  -6.39749020e-03,\n",
        "         -6.86297509e-02],\n",
        "       [ -1.26888512e+00,  -2.42481422e-01,  -7.91056304e-01,\n",
        "         -1.02817269e+00,  -7.78090730e-01,   7.30315111e+00,\n",
        "          3.93140117e-01,   5.72564778e-02,  -5.64844890e-03,\n",
        "          5.68543178e-02],\n",
        "       [  2.29158284e+00,  -3.69632421e-01,   1.06219135e-01,\n",
        "         -1.44827118e-01,  -7.88692362e-01,   3.93140117e-01,\n",
        "          3.85577975e+00,  -1.27851668e-02,  -1.06781258e-02,\n",
        "         -1.41155031e-02],\n",
        "       [ -8.81513019e-02,  -5.68099520e-03,   1.43549275e-02,\n",
        "          1.90878476e-02,  -7.22016782e-04,   5.72564778e-02,\n",
        "         -1.27851668e-02,   3.28941886e-03,   1.07019471e-04,\n",
        "         -1.51679385e-03],\n",
        "       [ -1.33463786e-02,   1.58696655e-03,  -1.22214762e-03,\n",
        "         -8.24268969e-03,  -6.39749020e-03,  -5.64844890e-03,\n",
        "         -1.06781258e-02,   1.07019471e-04,   2.73423319e-04,\n",
        "         -5.57664715e-04],\n",
        "       [  2.39757338e-01,  -1.00420096e-01,  -1.25018528e-01,\n",
        "         -1.07566027e-01,  -6.86297509e-02,   5.68543178e-02,\n",
        "         -1.41155031e-02,  -1.51679385e-03,  -5.57664715e-04,\n",
        "          3.57436206e-02]])"
       ]
      }
     ],
     "prompt_number": 15
    },
    {
     "cell_type": "markdown",
     "metadata": {},
     "source": [
      "**Using Variable Names**"
     ]
    },
    {
     "cell_type": "markdown",
     "metadata": {},
     "source": [
      "specify variable names with the arguments **name_y** and **name_x** and a \n",
      "name for the data set with **name_ds**"
     ]
    },
    {
     "cell_type": "code",
     "collapsed": false,
     "input": [
      "ols2 = pysal.spreg.OLS(y,x,name_y=y_name,name_x=x_names,name_ds='baltim.dbf')"
     ],
     "language": "python",
     "metadata": {},
     "outputs": [],
     "prompt_number": 16
    },
    {
     "cell_type": "markdown",
     "metadata": {},
     "source": [
      "note how the coefficients are given in alphabetical order of the variable names,\n",
      "**not** in the order in which they appear in the x array"
     ]
    },
    {
     "cell_type": "code",
     "collapsed": false,
     "input": [
      "print ols2.summary"
     ],
     "language": "python",
     "metadata": {},
     "outputs": [
      {
       "output_type": "stream",
       "stream": "stdout",
       "text": [
        "REGRESSION\n",
        "----------\n",
        "SUMMARY OF OUTPUT: ORDINARY LEAST SQUARES\n",
        "-----------------------------------------\n",
        "Data set            :  baltim.dbf\n",
        "Dependent Variable  :       PRICE               Number of Observations:         211\n",
        "Mean dependent var  :     44.3072               Number of Variables   :          10\n",
        "S.D. dependent var  :     23.6061               Degrees of Freedom    :         201\n",
        "\n",
        "R-squared           :    0.649976\n",
        "Adjusted R-squared  :      0.6343\n",
        "Sum squared residual:   40960.463               F-statistic           :     41.4718\n",
        "Sigma-square        :     203.783               Prob(F-statistic)     :    3.24e-41\n",
        "S.E. of regression  :      14.275               Log likelihood        :    -855.223\n",
        "Sigma-square ML     :     194.125               Akaike info criterion :    1730.446\n",
        "S.E of regression ML:     13.9329               Schwarz criterion     :    1763.965\n",
        "\n",
        "------------------------------------------------------------------------------------\n",
        "            Variable     Coefficient       Std.Error     t-Statistic     Probability\n",
        "------------------------------------------------------------------------------------\n",
        "            CONSTANT      23.2699963       5.2241658       4.4542989       0.0000140\n",
        "                  AC       7.8541637       2.7024343       2.9063292       0.0040671\n",
        "                 AGE      -0.2134550       0.0573535      -3.7217456       0.0002568\n",
        "              FIREPL      11.1727277       2.7323132       4.0891094       0.0000626\n",
        "                 GAR       5.4020685       1.9636140       2.7510848       0.0064824\n",
        "               LOTSZ       0.0949064       0.0165355       5.7395480       0.0000000\n",
        "               NBATH       5.6484051       2.0182820       2.7986204       0.0056318\n",
        "               NROOM       0.2224935       1.2279277       0.1811943       0.8563976\n",
        "               PATIO      10.3358755       3.1202987       3.3124635       0.0010966\n",
        "                SQFT       0.1877562       0.1890598       0.9931047       0.3218530\n",
        "------------------------------------------------------------------------------------\n",
        "\n",
        "REGRESSION DIAGNOSTICS\n",
        "MULTICOLLINEARITY CONDITION NUMBER        20.609256\n",
        "\n",
        "TEST ON NORMALITY OF ERRORS\n",
        "TEST                             DF        VALUE           PROB\n",
        "Jarque-Bera                       2      429.933020        0.0000000\n",
        "\n",
        "DIAGNOSTICS FOR HETEROSKEDASTICITY\n",
        "RANDOM COEFFICIENTS\n",
        "TEST                             DF        VALUE           PROB\n",
        "Breusch-Pagan test                9      167.791834        0.0000000\n",
        "Koenker-Bassett test              9       39.197493        0.0000106\n",
        "\n",
        "SPECIFICATION ROBUST TEST\n",
        "TEST                             DF        VALUE           PROB\n",
        "White                            51      164.335342        0.0000000\n",
        "================================ END OF REPORT =====================================\n"
       ]
      }
     ],
     "prompt_number": 17
    },
    {
     "cell_type": "markdown",
     "metadata": {},
     "source": [
      "the array **betas** still contains the coefficients in the order in which the variables are entered into the array x,\n",
      "so in this example, the order in **betas** is different from the order given in the pretty printout"
     ]
    },
    {
     "cell_type": "code",
     "collapsed": false,
     "input": [
      "ols2.betas"
     ],
     "language": "python",
     "metadata": {},
     "outputs": [
      {
       "output_type": "pyout",
       "prompt_number": 18,
       "text": [
        "array([[ 23.26999634],\n",
        "       [  0.22249352],\n",
        "       [  5.64840507],\n",
        "       [ 10.33587549],\n",
        "       [ 11.17272765],\n",
        "       [  7.85416373],\n",
        "       [  5.40206849],\n",
        "       [ -0.21345497],\n",
        "       [  0.09490639],\n",
        "       [  0.18775621]])"
       ]
      }
     ],
     "prompt_number": 18
    },
    {
     "cell_type": "markdown",
     "metadata": {},
     "source": [
      "**Heteroskedastic-Consistent Variance (White)**"
     ]
    },
    {
     "cell_type": "markdown",
     "metadata": {},
     "source": [
      "set the argument **robust='white'** to obtain heteroskedastic-constent variance estimates\n",
      "(the coefficient estimates are the same as before)"
     ]
    },
    {
     "cell_type": "code",
     "collapsed": false,
     "input": [
      "ols3 = pysal.spreg.OLS(y,x,robust='white',name_y=y_name,name_x=x_names,name_ds='baltim.dbf')"
     ],
     "language": "python",
     "metadata": {},
     "outputs": [],
     "prompt_number": 21
    },
    {
     "cell_type": "code",
     "collapsed": false,
     "input": [
      "print ols3.summary"
     ],
     "language": "python",
     "metadata": {},
     "outputs": [
      {
       "output_type": "stream",
       "stream": "stdout",
       "text": [
        "REGRESSION\n",
        "----------\n",
        "SUMMARY OF OUTPUT: ORDINARY LEAST SQUARES\n",
        "-----------------------------------------\n",
        "Data set            :  baltim.dbf\n",
        "Dependent Variable  :       PRICE               Number of Observations:         211\n",
        "Mean dependent var  :     44.3072               Number of Variables   :          10\n",
        "S.D. dependent var  :     23.6061               Degrees of Freedom    :         201\n",
        "\n",
        "R-squared           :    0.649976\n",
        "Adjusted R-squared  :      0.6343\n",
        "Sum squared residual:   40960.463               F-statistic           :     41.4718\n",
        "Sigma-square        :     203.783               Prob(F-statistic)     :    3.24e-41\n",
        "S.E. of regression  :      14.275               Log likelihood        :    -855.223\n",
        "Sigma-square ML     :     194.125               Akaike info criterion :    1730.446\n",
        "S.E of regression ML:     13.9329               Schwarz criterion     :    1763.965\n",
        "\n",
        "White Standard Errors\n",
        "------------------------------------------------------------------------------------\n",
        "            Variable     Coefficient       Std.Error     t-Statistic     Probability\n",
        "------------------------------------------------------------------------------------\n",
        "            CONSTANT      23.2699963       6.3917721       3.6406174       0.0003459\n",
        "                  AC       7.8541637       3.0400421       2.5835707       0.0104876\n",
        "                 AGE      -0.2134550       0.1056749      -2.0199209       0.0447190\n",
        "              FIREPL      11.1727277       2.9509837       3.7861028       0.0002020\n",
        "                 GAR       5.4020685       3.1756927       1.7010678       0.0904767\n",
        "               LOTSZ       0.0949064       0.0254242       3.7329217       0.0002464\n",
        "               NBATH       5.6484051       2.4396191       2.3152815       0.0216067\n",
        "               NROOM       0.2224935       1.3600685       0.1635899       0.8702183\n",
        "               PATIO      10.3358755       4.0971951       2.5226710       0.0124216\n",
        "                SQFT       0.1877562       0.2049383       0.9161595       0.3606811\n",
        "------------------------------------------------------------------------------------\n",
        "\n",
        "REGRESSION DIAGNOSTICS\n",
        "MULTICOLLINEARITY CONDITION NUMBER        20.609256\n",
        "\n",
        "TEST ON NORMALITY OF ERRORS\n",
        "TEST                             DF        VALUE           PROB\n",
        "Jarque-Bera                       2      429.933020        0.0000000\n",
        "\n",
        "DIAGNOSTICS FOR HETEROSKEDASTICITY\n",
        "RANDOM COEFFICIENTS\n",
        "TEST                             DF        VALUE           PROB\n",
        "Breusch-Pagan test                9      167.791834        0.0000000\n",
        "Koenker-Bassett test              9       39.197493        0.0000106\n",
        "\n",
        "SPECIFICATION ROBUST TEST\n",
        "TEST                             DF        VALUE           PROB\n",
        "White                            51      164.335342        0.0000000\n",
        "================================ END OF REPORT =====================================\n"
       ]
      }
     ],
     "prompt_number": 22
    },
    {
     "cell_type": "markdown",
     "metadata": {},
     "source": [
      "###Obtaining Regression Diagnostics Separately###"
     ]
    },
    {
     "cell_type": "markdown",
     "metadata": {},
     "source": [
      "all the diagnostics can be accessed individually as attributes of the regression object"
     ]
    },
    {
     "cell_type": "markdown",
     "metadata": {},
     "source": [
      "**Jarque-Bera**"
     ]
    },
    {
     "cell_type": "code",
     "collapsed": false,
     "input": [
      "ols3.jarque_bera"
     ],
     "language": "python",
     "metadata": {},
     "outputs": [
      {
       "output_type": "pyout",
       "prompt_number": 23,
       "text": [
        "{'df': 2, 'jb': 429.93301967170822, 'pvalue': 4.3775486798580239e-94}"
       ]
      }
     ],
     "prompt_number": 23
    },
    {
     "cell_type": "markdown",
     "metadata": {},
     "source": [
      "**Variance Inflation Factor**"
     ]
    },
    {
     "cell_type": "markdown",
     "metadata": {},
     "source": [
      "Some additional diagnostics, not included in the default attributes of the regression object can \n",
      "be accessed from the **diagnostics** module. An example is the variance inflation factor."
     ]
    },
    {
     "cell_type": "markdown",
     "metadata": {},
     "source": [
      "we need to pass a regression object (ols1) to the **diagnostics.vif** function"
     ]
    },
    {
     "cell_type": "code",
     "collapsed": false,
     "input": [
      "v = pysal.spreg.diagnostics.vif(ols1)"
     ],
     "language": "python",
     "metadata": {},
     "outputs": [],
     "prompt_number": 24
    },
    {
     "cell_type": "code",
     "collapsed": false,
     "input": [
      "v[1:]"
     ],
     "language": "python",
     "metadata": {},
     "outputs": [
      {
       "output_type": "pyout",
       "prompt_number": 25,
       "text": [
        "[(2.1282653585417055, 0.46986622038766979),\n",
        " (1.7612737468067756, 0.56777091114485745),\n",
        " (1.263500107548142, 0.79145224763021871),\n",
        " (1.4167716982292518, 0.70583002275514628),\n",
        " (1.3859551858036301, 0.7215240508805929),\n",
        " (1.4320753736980558, 0.69828726781167583),\n",
        " (1.3336259007911944, 0.74983546690772462),\n",
        " (1.5646798143926097, 0.63910839189050839),\n",
        " (2.4833041895651875, 0.40268928961743278)]"
       ]
      }
     ],
     "prompt_number": 25
    }
   ],
   "metadata": {}
  }
 ]
}