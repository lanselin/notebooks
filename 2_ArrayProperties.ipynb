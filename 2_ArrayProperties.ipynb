{
 "metadata": {
  "name": "2_ArrayProperties"
 },
 "nbformat": 3,
 "nbformat_minor": 0,
 "worksheets": [
  {
   "cells": [
    {
     "cell_type": "heading",
     "level": 2,
     "metadata": {},
     "source": [
      "Array Properties"
     ]
    },
    {
     "cell_type": "markdown",
     "metadata": {},
     "source": [
      "*by Luc Anselin* --  <a href=\"mailto:luc.anselin@asu.edu\">luc.anselin@asu.edu</a>\n",
      "\n",
      "Lab Exercise Notes Accompanying Spring 2013 *Spatial Regression* Course\n",
      "\n",
      "(updated 7/3/2013)"
     ]
    },
    {
     "cell_type": "markdown",
     "metadata": {},
     "source": [
      "**Objectives**\n",
      "\n",
      "* reading and writing numpy arrays\n",
      "\n",
      "* basic descriptive statistics\n",
      "\n",
      "* identifying and setting array elements\n",
      "\n",
      "* percentiles and median\n",
      "\n",
      "* sorting arrays"
     ]
    },
    {
     "cell_type": "code",
     "collapsed": false,
     "input": [
      "import numpy as np"
     ],
     "language": "python",
     "metadata": {},
     "outputs": [],
     "prompt_number": 1
    },
    {
     "cell_type": "heading",
     "level": 3,
     "metadata": {},
     "source": [
      "Reading and Writing Numpy Arrays"
     ]
    },
    {
     "cell_type": "markdown",
     "metadata": {},
     "source": [
      "Use **loadtxt** with arguments **filename**, **skiprows** =number of header lines to skip\n",
      "\n",
      "Optionally, set **usecols** to a specific column range (as a list, column index starts at 0) to extract only those columns\n",
      "\n",
      "We will use the *columbus.txt* file created by GeoDa. It has two header lines, which we will skip, hence\n",
      "we set **skiprows=2**.\n",
      "\n",
      "It contains the variables: POLYID, HOVAL, INC, CRIME, OPEN, PLUMB, DISCBD, X, Y, EW, and CP"
     ]
    },
    {
     "cell_type": "markdown",
     "metadata": {},
     "source": [
      "**Note**: this assumes that the sample data are in a **data** subdirectory of\n",
      "your current working directory, as implemented in the notebooks github repository.\n",
      "\n",
      "If this is not the case, you need to specify the proper pathname."
     ]
    },
    {
     "cell_type": "code",
     "collapsed": false,
     "input": [
      "bigx = np.loadtxt(\"data/columbus.txt\",skiprows=2)"
     ],
     "language": "python",
     "metadata": {},
     "outputs": [],
     "prompt_number": 5
    },
    {
     "cell_type": "code",
     "collapsed": false,
     "input": [
      "bigx.shape"
     ],
     "language": "python",
     "metadata": {},
     "outputs": [
      {
       "output_type": "pyout",
       "prompt_number": 6,
       "text": [
        "(49, 11)"
       ]
      }
     ],
     "prompt_number": 6
    },
    {
     "cell_type": "code",
     "collapsed": false,
     "input": [
      "bigx[0:2,:]"
     ],
     "language": "python",
     "metadata": {},
     "outputs": [
      {
       "output_type": "pyout",
       "prompt_number": 7,
       "text": [
        "array([[  1.      ,  80.467003,  19.531   ,  15.72598 ,   2.850747,\n",
        "          0.217155,   5.03    ,  38.799999,  44.07    ,   1.      ,   0.      ],\n",
        "       [  2.      ,  44.567001,  21.232   ,  18.801754,   5.29672 ,\n",
        "          0.320581,   4.27    ,  35.619999,  42.380001,   0.      ,   0.      ]])"
       ]
      }
     ],
     "prompt_number": 7
    },
    {
     "cell_type": "code",
     "collapsed": false,
     "input": [
      "crime = np.loadtxt(\"data/columbus.txt\",skiprows=2,usecols=(3,))"
     ],
     "language": "python",
     "metadata": {},
     "outputs": [],
     "prompt_number": 8
    },
    {
     "cell_type": "code",
     "collapsed": false,
     "input": [
      "crime.shape"
     ],
     "language": "python",
     "metadata": {},
     "outputs": [
      {
       "output_type": "pyout",
       "prompt_number": 9,
       "text": [
        "(49,)"
       ]
      }
     ],
     "prompt_number": 9
    },
    {
     "cell_type": "code",
     "collapsed": false,
     "input": [
      "crime[0:2]"
     ],
     "language": "python",
     "metadata": {},
     "outputs": [
      {
       "output_type": "pyout",
       "prompt_number": 10,
       "text": [
        "array([ 15.72598 ,  18.801754])"
       ]
      }
     ],
     "prompt_number": 10
    },
    {
     "cell_type": "code",
     "collapsed": false,
     "input": [
      "cih = np.loadtxt(\"data/columbus.txt\",skiprows=2,usecols=(3,2,1))  "
     ],
     "language": "python",
     "metadata": {},
     "outputs": [],
     "prompt_number": 11
    },
    {
     "cell_type": "code",
     "collapsed": false,
     "input": [
      "cih.shape"
     ],
     "language": "python",
     "metadata": {},
     "outputs": [
      {
       "output_type": "pyout",
       "prompt_number": 12,
       "text": [
        "(49, 3)"
       ]
      }
     ],
     "prompt_number": 12
    },
    {
     "cell_type": "code",
     "collapsed": false,
     "input": [
      "cih[0:2,:]"
     ],
     "language": "python",
     "metadata": {},
     "outputs": [
      {
       "output_type": "pyout",
       "prompt_number": 13,
       "text": [
        "array([[ 15.72598 ,  19.531   ,  80.467003],\n",
        "       [ 18.801754,  21.232   ,  44.567001]])"
       ]
      }
     ],
     "prompt_number": 13
    },
    {
     "cell_type": "markdown",
     "metadata": {},
     "source": [
      "Use **unpack = True** to assign columns to a tuple of arrays"
     ]
    },
    {
     "cell_type": "code",
     "collapsed": false,
     "input": [
      "cri,inc,hoval = np.loadtxt(\"data/columbus.txt\",skiprows=2,usecols=(3,2,1),unpack=True)"
     ],
     "language": "python",
     "metadata": {},
     "outputs": [],
     "prompt_number": 14
    },
    {
     "cell_type": "code",
     "collapsed": false,
     "input": [
      "cri.shape, inc.shape, hoval.shape"
     ],
     "language": "python",
     "metadata": {},
     "outputs": [
      {
       "output_type": "pyout",
       "prompt_number": 15,
       "text": [
        "((49,), (49,), (49,))"
       ]
      }
     ],
     "prompt_number": 15
    },
    {
     "cell_type": "code",
     "collapsed": false,
     "input": [
      "cri[0:2]"
     ],
     "language": "python",
     "metadata": {},
     "outputs": [
      {
       "output_type": "pyout",
       "prompt_number": 16,
       "text": [
        "array([ 15.72598 ,  18.801754])"
       ]
      }
     ],
     "prompt_number": 16
    },
    {
     "cell_type": "markdown",
     "metadata": {},
     "source": [
      "Use **shape** to set to column or row vector explicitly"
     ]
    },
    {
     "cell_type": "code",
     "collapsed": false,
     "input": [
      "cri.shape = (1,49)"
     ],
     "language": "python",
     "metadata": {},
     "outputs": [],
     "prompt_number": 17
    },
    {
     "cell_type": "code",
     "collapsed": false,
     "input": [
      "cri.shape"
     ],
     "language": "python",
     "metadata": {},
     "outputs": [
      {
       "output_type": "pyout",
       "prompt_number": 18,
       "text": [
        "(1, 49)"
       ]
      }
     ],
     "prompt_number": 18
    },
    {
     "cell_type": "code",
     "collapsed": false,
     "input": [
      "cri.shape = (49,1)"
     ],
     "language": "python",
     "metadata": {},
     "outputs": [],
     "prompt_number": 19
    },
    {
     "cell_type": "code",
     "collapsed": false,
     "input": [
      "cri.shape"
     ],
     "language": "python",
     "metadata": {},
     "outputs": [
      {
       "output_type": "pyout",
       "prompt_number": 20,
       "text": [
        "(49, 1)"
       ]
      }
     ],
     "prompt_number": 20
    },
    {
     "cell_type": "markdown",
     "metadata": {},
     "source": [
      "Use **savetxt** to save an array to a text file\n",
      "\n",
      "As used here, this will save to the current working directory. Specify a pathname if that is\n",
      "not what you want.\n",
      "\n",
      "Note: the default format is unlikely what you want, so specify desired format using Python formatting"
     ]
    },
    {
     "cell_type": "code",
     "collapsed": false,
     "input": [
      "np.savetxt(\"cih.txt\",cih)"
     ],
     "language": "python",
     "metadata": {},
     "outputs": [],
     "prompt_number": 21
    },
    {
     "cell_type": "markdown",
     "metadata": {},
     "source": [
      "Use **delimiter=\",\"** for comma delimited files, and **fmt=\"%s\"** to output as strings"
     ]
    },
    {
     "cell_type": "code",
     "collapsed": false,
     "input": [
      "np.savetxt(\"cih.csv\",cih,delimiter=\",\",fmt=\"%s\")"
     ],
     "language": "python",
     "metadata": {},
     "outputs": [],
     "prompt_number": 22
    },
    {
     "cell_type": "markdown",
     "metadata": {},
     "source": [
      "###Basic Descriptive Statistics"
     ]
    },
    {
     "cell_type": "markdown",
     "metadata": {},
     "source": [
      "**min** and **max**"
     ]
    },
    {
     "cell_type": "markdown",
     "metadata": {},
     "source": [
      "either as an attribute **matrixname.max( )** or as a function **np.max(matrixname)**"
     ]
    },
    {
     "cell_type": "code",
     "collapsed": false,
     "input": [
      "cri.max()"
     ],
     "language": "python",
     "metadata": {},
     "outputs": [
      {
       "output_type": "pyout",
       "prompt_number": 23,
       "text": [
        "68.892043999999999"
       ]
      }
     ],
     "prompt_number": 23
    },
    {
     "cell_type": "code",
     "collapsed": false,
     "input": [
      "np.max(cri)"
     ],
     "language": "python",
     "metadata": {},
     "outputs": [
      {
       "output_type": "pyout",
       "prompt_number": 24,
       "text": [
        "68.892043999999999"
       ]
      }
     ],
     "prompt_number": 24
    },
    {
     "cell_type": "code",
     "collapsed": false,
     "input": [
      "cri.min()"
     ],
     "language": "python",
     "metadata": {},
     "outputs": [
      {
       "output_type": "pyout",
       "prompt_number": 25,
       "text": [
        "0.17826900000000001"
       ]
      }
     ],
     "prompt_number": 25
    },
    {
     "cell_type": "code",
     "collapsed": false,
     "input": [
      "np.min(cri)"
     ],
     "language": "python",
     "metadata": {},
     "outputs": [
      {
       "output_type": "pyout",
       "prompt_number": 26,
       "text": [
        "0.17826900000000001"
       ]
      }
     ],
     "prompt_number": 26
    },
    {
     "cell_type": "markdown",
     "metadata": {},
     "source": [
      "range of values is **ptp** (NOT **range**, which creates a list with sequential values)"
     ]
    },
    {
     "cell_type": "code",
     "collapsed": false,
     "input": [
      "cri.ptp()"
     ],
     "language": "python",
     "metadata": {},
     "outputs": [
      {
       "output_type": "pyout",
       "prompt_number": 27,
       "text": [
        "68.713774999999998"
       ]
      }
     ],
     "prompt_number": 27
    },
    {
     "cell_type": "code",
     "collapsed": false,
     "input": [
      "np.ptp(cri)"
     ],
     "language": "python",
     "metadata": {},
     "outputs": [
      {
       "output_type": "pyout",
       "prompt_number": 28,
       "text": [
        "68.713774999999998"
       ]
      }
     ],
     "prompt_number": 28
    },
    {
     "cell_type": "code",
     "collapsed": false,
     "input": [
      "cri.max() - cri.min()"
     ],
     "language": "python",
     "metadata": {},
     "outputs": [
      {
       "output_type": "pyout",
       "prompt_number": 29,
       "text": [
        "68.713774999999998"
       ]
      }
     ],
     "prompt_number": 29
    },
    {
     "cell_type": "markdown",
     "metadata": {},
     "source": [
      "**mean**"
     ]
    },
    {
     "cell_type": "code",
     "collapsed": false,
     "input": [
      "cri.mean()"
     ],
     "language": "python",
     "metadata": {},
     "outputs": [
      {
       "output_type": "pyout",
       "prompt_number": 30,
       "text": [
        "35.128823897959187"
       ]
      }
     ],
     "prompt_number": 30
    },
    {
     "cell_type": "code",
     "collapsed": false,
     "input": [
      "np.mean(cri)"
     ],
     "language": "python",
     "metadata": {},
     "outputs": [
      {
       "output_type": "pyout",
       "prompt_number": 31,
       "text": [
        "35.128823897959187"
       ]
      }
     ],
     "prompt_number": 31
    },
    {
     "cell_type": "markdown",
     "metadata": {},
     "source": [
      "standard deviation (**std**) and variance (**var**)"
     ]
    },
    {
     "cell_type": "code",
     "collapsed": false,
     "input": [
      "cri.std()"
     ],
     "language": "python",
     "metadata": {},
     "outputs": [
      {
       "output_type": "pyout",
       "prompt_number": 32,
       "text": [
        "16.560476353674986"
       ]
      }
     ],
     "prompt_number": 32
    },
    {
     "cell_type": "code",
     "collapsed": false,
     "input": [
      "np.std(cri)"
     ],
     "language": "python",
     "metadata": {},
     "outputs": [
      {
       "output_type": "pyout",
       "prompt_number": 33,
       "text": [
        "16.560476353674986"
       ]
      }
     ],
     "prompt_number": 33
    },
    {
     "cell_type": "code",
     "collapsed": false,
     "input": [
      "np.var(cri)"
     ],
     "language": "python",
     "metadata": {},
     "outputs": [
      {
       "output_type": "pyout",
       "prompt_number": 34,
       "text": [
        "274.24937706062832"
       ]
      }
     ],
     "prompt_number": 34
    },
    {
     "cell_type": "markdown",
     "metadata": {},
     "source": [
      "The default for standard deviation and variance is the **consistent** estimate, divided by the number of observations\n",
      "\n",
      "The **unbiased** estimate is found by setting the **ddof** argument to **1** (degrees for freedom = N - ddof)"
     ]
    },
    {
     "cell_type": "code",
     "collapsed": false,
     "input": [
      "np.std(cri,ddof=1)"
     ],
     "language": "python",
     "metadata": {},
     "outputs": [
      {
       "output_type": "pyout",
       "prompt_number": 35,
       "text": [
        "16.732092091229699"
       ]
      }
     ],
     "prompt_number": 35
    },
    {
     "cell_type": "code",
     "collapsed": false,
     "input": [
      "np.var(cri,ddof=1)"
     ],
     "language": "python",
     "metadata": {},
     "outputs": [
      {
       "output_type": "pyout",
       "prompt_number": 36,
       "text": [
        "279.96290574939144"
       ]
      }
     ],
     "prompt_number": 36
    },
    {
     "cell_type": "markdown",
     "metadata": {},
     "source": [
      "covariance (**cov**)\n",
      "\n",
      "default is that **rows correspond to variables**\n",
      "\n",
      "set **rowvar=0** to set columns to variables"
     ]
    },
    {
     "cell_type": "code",
     "collapsed": false,
     "input": [
      "np.cov(cih,rowvar=0)"
     ],
     "language": "python",
     "metadata": {},
     "outputs": [
      {
       "output_type": "pyout",
       "prompt_number": 37,
       "text": [
        "array([[ 279.96290575,  -66.37974764, -177.50260275],\n",
        "       [ -66.37974764,   32.52852156,   52.64669776],\n",
        "       [-177.50260275,   52.64669776,  340.99572149]])"
       ]
      }
     ],
     "prompt_number": 37
    },
    {
     "cell_type": "markdown",
     "metadata": {},
     "source": [
      "Note that unbiased estimate is the default since **bias** overrides **ddof** it unless it is set explicitly\n",
      "\n",
      "bias = 0 by default which means the unbiased estimate -- best to set ddof explicitly to make sure it does what you intend"
     ]
    },
    {
     "cell_type": "code",
     "collapsed": false,
     "input": [
      "cov1 = np.cov(cih,rowvar=0,ddof=1)"
     ],
     "language": "python",
     "metadata": {},
     "outputs": [],
     "prompt_number": 38
    },
    {
     "cell_type": "code",
     "collapsed": false,
     "input": [
      "cov1"
     ],
     "language": "python",
     "metadata": {},
     "outputs": [
      {
       "output_type": "pyout",
       "prompt_number": 39,
       "text": [
        "array([[ 279.96290575,  -66.37974764, -177.50260275],\n",
        "       [ -66.37974764,   32.52852156,   52.64669776],\n",
        "       [-177.50260275,   52.64669776,  340.99572149]])"
       ]
      }
     ],
     "prompt_number": 39
    },
    {
     "cell_type": "markdown",
     "metadata": {},
     "source": [
      "use **sqrt** to take square root of diagonal elements as the standard error\n",
      "\n",
      "compare to results for **std**"
     ]
    },
    {
     "cell_type": "code",
     "collapsed": false,
     "input": [
      "sqrt(cov1[0,0])"
     ],
     "language": "python",
     "metadata": {},
     "outputs": [
      {
       "output_type": "pyout",
       "prompt_number": 40,
       "text": [
        "16.732092091229699"
       ]
      }
     ],
     "prompt_number": 40
    },
    {
     "cell_type": "code",
     "collapsed": false,
     "input": [
      "cov2 = np.cov(cih,rowvar=0,ddof=0)"
     ],
     "language": "python",
     "metadata": {},
     "outputs": [],
     "prompt_number": 41
    },
    {
     "cell_type": "code",
     "collapsed": false,
     "input": [
      "cov2"
     ],
     "language": "python",
     "metadata": {},
     "outputs": [
      {
       "output_type": "pyout",
       "prompt_number": 42,
       "text": [
        "array([[ 274.24937706,  -65.02505891, -173.88010066],\n",
        "       [ -65.02505891,   31.86467418,   51.57227536],\n",
        "       [-173.88010066,   51.57227536,  334.03662514]])"
       ]
      }
     ],
     "prompt_number": 42
    },
    {
     "cell_type": "code",
     "collapsed": false,
     "input": [
      "sqrt(cov2[0,0])"
     ],
     "language": "python",
     "metadata": {},
     "outputs": [
      {
       "output_type": "pyout",
       "prompt_number": 43,
       "text": [
        "16.560476353674986"
       ]
      }
     ],
     "prompt_number": 43
    },
    {
     "cell_type": "markdown",
     "metadata": {},
     "source": [
      "Extract all the standard deviations as square root of the diagonal elements.\n",
      "\n",
      "Extract the diagonal elements using **diagonal**"
     ]
    },
    {
     "cell_type": "code",
     "collapsed": false,
     "input": [
      "stdall = sqrt(np.diagonal(cov1))"
     ],
     "language": "python",
     "metadata": {},
     "outputs": [],
     "prompt_number": 44
    },
    {
     "cell_type": "code",
     "collapsed": false,
     "input": [
      "stdall"
     ],
     "language": "python",
     "metadata": {},
     "outputs": [
      {
       "output_type": "pyout",
       "prompt_number": 45,
       "text": [
        "array([ 16.73209209,   5.70337808,  18.46606947])"
       ]
      }
     ],
     "prompt_number": 45
    },
    {
     "cell_type": "markdown",
     "metadata": {},
     "source": [
      "Correlation matrix **corrcoef**\n",
      "\n",
      "Same conventions as for covariance"
     ]
    },
    {
     "cell_type": "code",
     "collapsed": false,
     "input": [
      "cor1 = np.corrcoef(cih,rowvar=0,ddof=1)"
     ],
     "language": "python",
     "metadata": {},
     "outputs": [],
     "prompt_number": 46
    },
    {
     "cell_type": "code",
     "collapsed": false,
     "input": [
      "cor1"
     ],
     "language": "python",
     "metadata": {},
     "outputs": [
      {
       "output_type": "pyout",
       "prompt_number": 47,
       "text": [
        "array([[ 1.        , -0.69558977, -0.57448675],\n",
        "       [-0.69558977,  1.        ,  0.49987856],\n",
        "       [-0.57448675,  0.49987856,  1.        ]])"
       ]
      }
     ],
     "prompt_number": 47
    },
    {
     "cell_type": "markdown",
     "metadata": {},
     "source": [
      "###Identifying and Setting Array Elements"
     ]
    },
    {
     "cell_type": "markdown",
     "metadata": {},
     "source": [
      "Identify the indices of min and max values using **argmin** and **argmax**"
     ]
    },
    {
     "cell_type": "code",
     "collapsed": false,
     "input": [
      "i = np.argmax(cri)"
     ],
     "language": "python",
     "metadata": {},
     "outputs": [],
     "prompt_number": 48
    },
    {
     "cell_type": "code",
     "collapsed": false,
     "input": [
      "i"
     ],
     "language": "python",
     "metadata": {},
     "outputs": [
      {
       "output_type": "pyout",
       "prompt_number": 49,
       "text": [
        "29"
       ]
      }
     ],
     "prompt_number": 49
    },
    {
     "cell_type": "code",
     "collapsed": false,
     "input": [
      "cri[i]"
     ],
     "language": "python",
     "metadata": {},
     "outputs": [
      {
       "output_type": "pyout",
       "prompt_number": 50,
       "text": [
        "array([ 68.892044])"
       ]
      }
     ],
     "prompt_number": 50
    },
    {
     "cell_type": "code",
     "collapsed": false,
     "input": [
      "j = np.argmin(cri)"
     ],
     "language": "python",
     "metadata": {},
     "outputs": [],
     "prompt_number": 51
    },
    {
     "cell_type": "code",
     "collapsed": false,
     "input": [
      "j"
     ],
     "language": "python",
     "metadata": {},
     "outputs": [
      {
       "output_type": "pyout",
       "prompt_number": 52,
       "text": [
        "6"
       ]
      }
     ],
     "prompt_number": 52
    },
    {
     "cell_type": "code",
     "collapsed": false,
     "input": [
      "cri[j]"
     ],
     "language": "python",
     "metadata": {},
     "outputs": [
      {
       "output_type": "pyout",
       "prompt_number": 53,
       "text": [
        "array([ 0.178269])"
       ]
      }
     ],
     "prompt_number": 53
    },
    {
     "cell_type": "markdown",
     "metadata": {},
     "source": [
      "Indices of a one-dimensional array where condition holds using **where**"
     ]
    },
    {
     "cell_type": "code",
     "collapsed": false,
     "input": [
      "aa = np.where(cri > 35.0)"
     ],
     "language": "python",
     "metadata": {},
     "outputs": [],
     "prompt_number": 54
    },
    {
     "cell_type": "code",
     "collapsed": false,
     "input": [
      "aa"
     ],
     "language": "python",
     "metadata": {},
     "outputs": [
      {
       "output_type": "pyout",
       "prompt_number": 55,
       "text": [
        "(array([ 4,  7, 10, 11, 12, 13, 14, 15, 16, 17, 18, 20, 23, 24, 25, 26, 27,\n",
        "       28, 29, 32, 34, 36, 37, 42]),\n",
        " array([0, 0, 0, 0, 0, 0, 0, 0, 0, 0, 0, 0, 0, 0, 0, 0, 0, 0, 0, 0, 0, 0, 0,\n",
        "       0]))"
       ]
      }
     ],
     "prompt_number": 55
    },
    {
     "cell_type": "markdown",
     "metadata": {},
     "source": [
      "**where** returns a tuple of arrays, the second one for the second dimension\n",
      "\n",
      "to strip the second one, use [0] as the dimension"
     ]
    },
    {
     "cell_type": "code",
     "collapsed": false,
     "input": [
      "aa = np.where(cri > 35.0)[0]"
     ],
     "language": "python",
     "metadata": {},
     "outputs": [],
     "prompt_number": 56
    },
    {
     "cell_type": "code",
     "collapsed": false,
     "input": [
      "aa"
     ],
     "language": "python",
     "metadata": {},
     "outputs": [
      {
       "output_type": "pyout",
       "prompt_number": 57,
       "text": [
        "array([ 4,  7, 10, 11, 12, 13, 14, 15, 16, 17, 18, 20, 23, 24, 25, 26, 27,\n",
        "       28, 29, 32, 34, 36, 37, 42])"
       ]
      }
     ],
     "prompt_number": 57
    },
    {
     "cell_type": "code",
     "collapsed": false,
     "input": [
      "a2 = cri[aa]"
     ],
     "language": "python",
     "metadata": {},
     "outputs": [],
     "prompt_number": 58
    },
    {
     "cell_type": "code",
     "collapsed": false,
     "input": [
      "a2.T   # use T to get cleaner listing, but is not essential"
     ],
     "language": "python",
     "metadata": {},
     "outputs": [
      {
       "output_type": "pyout",
       "prompt_number": 59,
       "text": [
        "array([[ 50.73151 ,  38.425858,  62.275448,  56.705669,  46.716129,\n",
        "         57.066132,  48.585487,  54.838711,  36.868774,  43.962486,\n",
        "         54.521965,  40.074074,  38.297871,  61.299175,  40.969742,\n",
        "         52.79443 ,  56.919785,  60.750446,  68.892044,  41.968163,\n",
        "         39.175053,  42.445076,  53.710938,  36.663612]])"
       ]
      }
     ],
     "prompt_number": 59
    },
    {
     "cell_type": "code",
     "collapsed": false,
     "input": [
      "cri2 = cri.copy()"
     ],
     "language": "python",
     "metadata": {},
     "outputs": [],
     "prompt_number": 60
    },
    {
     "cell_type": "markdown",
     "metadata": {},
     "source": [
      "Subsetting values of an array using indices"
     ]
    },
    {
     "cell_type": "code",
     "collapsed": false,
     "input": [
      "cri2[aa] = 1.0"
     ],
     "language": "python",
     "metadata": {},
     "outputs": [],
     "prompt_number": 61
    },
    {
     "cell_type": "code",
     "collapsed": false,
     "input": [
      "cri2.T"
     ],
     "language": "python",
     "metadata": {},
     "outputs": [
      {
       "output_type": "pyout",
       "prompt_number": 62,
       "text": [
        "array([[ 15.72598 ,  18.801754,  30.626781,  32.38776 ,   1.      ,\n",
        "         26.066658,   0.178269,   1.      ,  30.515917,  34.000835,\n",
        "          1.      ,   1.      ,   1.      ,   1.      ,   1.      ,\n",
        "          1.      ,   1.      ,   1.      ,   1.      ,   0.223797,\n",
        "          1.      ,  33.705048,  20.048504,   1.      ,   1.      ,\n",
        "          1.      ,   1.      ,   1.      ,   1.      ,   1.      ,\n",
        "         17.677214,  19.145592,   1.      ,  23.974028,   1.      ,\n",
        "         14.305556,   1.      ,   1.      ,  19.100863,  16.241299,\n",
        "         18.905146,  16.49189 ,   1.      ,  25.962263,  29.028488,\n",
        "         16.530533,  27.822861,  26.645266,  22.541491]])"
       ]
      }
     ],
     "prompt_number": 62
    },
    {
     "cell_type": "markdown",
     "metadata": {},
     "source": [
      "Compare to creating a boolean vector counterpart of an array\n",
      "\n",
      "(note that result is a column vector, so use **T** to make it more readable)"
     ]
    },
    {
     "cell_type": "code",
     "collapsed": false,
     "input": [
      "bb = cri > 35.0"
     ],
     "language": "python",
     "metadata": {},
     "outputs": [],
     "prompt_number": 63
    },
    {
     "cell_type": "markdown",
     "metadata": {},
     "source": [
      "Result is a boolean vector, turn into integer using **astype**"
     ]
    },
    {
     "cell_type": "code",
     "collapsed": false,
     "input": [
      "bb.T"
     ],
     "language": "python",
     "metadata": {},
     "outputs": [
      {
       "output_type": "pyout",
       "prompt_number": 64,
       "text": [
        "array([[False, False, False, False,  True, False, False,  True, False,\n",
        "        False,  True,  True,  True,  True,  True,  True,  True,  True,\n",
        "         True, False,  True, False, False,  True,  True,  True,  True,\n",
        "         True,  True,  True, False, False,  True, False,  True, False,\n",
        "         True,  True, False, False, False, False,  True, False, False,\n",
        "        False, False, False, False]], dtype=bool)"
       ]
      }
     ],
     "prompt_number": 64
    },
    {
     "cell_type": "code",
     "collapsed": false,
     "input": [
      "bb.astype(int).T"
     ],
     "language": "python",
     "metadata": {},
     "outputs": [
      {
       "output_type": "pyout",
       "prompt_number": 65,
       "text": [
        "array([[0, 0, 0, 0, 1, 0, 0, 1, 0, 0, 1, 1, 1, 1, 1, 1, 1, 1, 1, 0, 1, 0,\n",
        "        0, 1, 1, 1, 1, 1, 1, 1, 0, 0, 1, 0, 1, 0, 1, 1, 0, 0, 0, 0, 1, 0,\n",
        "        0, 0, 0, 0, 0]])"
       ]
      }
     ],
     "prompt_number": 65
    },
    {
     "cell_type": "markdown",
     "metadata": {},
     "source": [
      "Or, by chaining the commands"
     ]
    },
    {
     "cell_type": "code",
     "collapsed": false,
     "input": [
      "bc = (cri > 35.0).astype(int).T"
     ],
     "language": "python",
     "metadata": {},
     "outputs": [],
     "prompt_number": 66
    },
    {
     "cell_type": "code",
     "collapsed": false,
     "input": [
      "bc"
     ],
     "language": "python",
     "metadata": {},
     "outputs": [
      {
       "output_type": "pyout",
       "prompt_number": 67,
       "text": [
        "array([[0, 0, 0, 0, 1, 0, 0, 1, 0, 0, 1, 1, 1, 1, 1, 1, 1, 1, 1, 0, 1, 0,\n",
        "        0, 1, 1, 1, 1, 1, 1, 1, 0, 0, 1, 0, 1, 0, 1, 1, 0, 0, 0, 0, 1, 0,\n",
        "        0, 0, 0, 0, 0]])"
       ]
      }
     ],
     "prompt_number": 67
    },
    {
     "cell_type": "markdown",
     "metadata": {},
     "source": [
      "Indices of nonzero elements using **nonzero**"
     ]
    },
    {
     "cell_type": "code",
     "collapsed": false,
     "input": [
      "np.nonzero(bb)[0]"
     ],
     "language": "python",
     "metadata": {},
     "outputs": [
      {
       "output_type": "pyout",
       "prompt_number": 68,
       "text": [
        "array([ 4,  7, 10, 11, 12, 13, 14, 15, 16, 17, 18, 20, 23, 24, 25, 26, 27,\n",
        "       28, 29, 32, 34, 36, 37, 42])"
       ]
      }
     ],
     "prompt_number": 68
    },
    {
     "cell_type": "markdown",
     "metadata": {},
     "source": [
      "###Percentiles and Median"
     ]
    },
    {
     "cell_type": "markdown",
     "metadata": {},
     "source": [
      "Get percentiles using **percentile** with array and a sequence of percentages (as floats)"
     ]
    },
    {
     "cell_type": "code",
     "collapsed": false,
     "input": [
      "pp = np.percentile(inc,(25., 50., 75.))"
     ],
     "language": "python",
     "metadata": {},
     "outputs": [],
     "prompt_number": 69
    },
    {
     "cell_type": "code",
     "collapsed": false,
     "input": [
      "pp"
     ],
     "language": "python",
     "metadata": {},
     "outputs": [
      {
       "output_type": "pyout",
       "prompt_number": 70,
       "text": [
        "[9.9629999999999992, 13.380000000000001, 18.323999000000001]"
       ]
      }
     ],
     "prompt_number": 70
    },
    {
     "cell_type": "markdown",
     "metadata": {},
     "source": [
      "Special case: **median**"
     ]
    },
    {
     "cell_type": "code",
     "collapsed": false,
     "input": [
      "med = np.median(inc)"
     ],
     "language": "python",
     "metadata": {},
     "outputs": [],
     "prompt_number": 71
    },
    {
     "cell_type": "code",
     "collapsed": false,
     "input": [
      "med"
     ],
     "language": "python",
     "metadata": {},
     "outputs": [
      {
       "output_type": "pyout",
       "prompt_number": 72,
       "text": [
        "13.380000000000001"
       ]
      }
     ],
     "prompt_number": 72
    },
    {
     "cell_type": "markdown",
     "metadata": {},
     "source": [
      "Applications: identifying outliers (constructing a fence as 1.5 times the interquartile range)"
     ]
    },
    {
     "cell_type": "code",
     "collapsed": false,
     "input": [
      "iqr = pp[2] - pp[0]"
     ],
     "language": "python",
     "metadata": {},
     "outputs": [],
     "prompt_number": 73
    },
    {
     "cell_type": "code",
     "collapsed": false,
     "input": [
      "iqr"
     ],
     "language": "python",
     "metadata": {},
     "outputs": [
      {
       "output_type": "pyout",
       "prompt_number": 74,
       "text": [
        "8.3609990000000014"
       ]
      }
     ],
     "prompt_number": 74
    },
    {
     "cell_type": "code",
     "collapsed": false,
     "input": [
      "fencelow, fenceup = pp[0] - iqr*1.5, pp[2] + iqr*1.5"
     ],
     "language": "python",
     "metadata": {},
     "outputs": [],
     "prompt_number": 75
    },
    {
     "cell_type": "code",
     "collapsed": false,
     "input": [
      "fencelow"
     ],
     "language": "python",
     "metadata": {},
     "outputs": [
      {
       "output_type": "pyout",
       "prompt_number": 76,
       "text": [
        "-2.5784985000000038"
       ]
      }
     ],
     "prompt_number": 76
    },
    {
     "cell_type": "code",
     "collapsed": false,
     "input": [
      "fenceup"
     ],
     "language": "python",
     "metadata": {},
     "outputs": [
      {
       "output_type": "pyout",
       "prompt_number": 77,
       "text": [
        "30.865497500000004"
       ]
      }
     ],
     "prompt_number": 77
    },
    {
     "cell_type": "markdown",
     "metadata": {},
     "source": [
      "Since fencelow is negative, there are no lower outliers (income is always positive)"
     ]
    },
    {
     "cell_type": "code",
     "collapsed": false,
     "input": [
      "outliers = np.where( inc > fenceup)[0] "
     ],
     "language": "python",
     "metadata": {},
     "outputs": [],
     "prompt_number": 78
    },
    {
     "cell_type": "code",
     "collapsed": false,
     "input": [
      "outliers"
     ],
     "language": "python",
     "metadata": {},
     "outputs": [
      {
       "output_type": "pyout",
       "prompt_number": 79,
       "text": [
        "array([19])"
       ]
      }
     ],
     "prompt_number": 79
    },
    {
     "cell_type": "code",
     "collapsed": false,
     "input": [
      "np.max(inc),np.argmax(inc)"
     ],
     "language": "python",
     "metadata": {},
     "outputs": [
      {
       "output_type": "pyout",
       "prompt_number": 80,
       "text": [
        "(31.07, 19)"
       ]
      }
     ],
     "prompt_number": 80
    },
    {
     "cell_type": "code",
     "collapsed": false,
     "input": [
      "incoutliers = inc[outliers]"
     ],
     "language": "python",
     "metadata": {},
     "outputs": [],
     "prompt_number": 81
    },
    {
     "cell_type": "code",
     "collapsed": false,
     "input": [
      "incoutliers"
     ],
     "language": "python",
     "metadata": {},
     "outputs": [
      {
       "output_type": "pyout",
       "prompt_number": 82,
       "text": [
        "array([ 31.07])"
       ]
      }
     ],
     "prompt_number": 82
    },
    {
     "cell_type": "markdown",
     "metadata": {},
     "source": [
      "###Sorting Arrays"
     ]
    },
    {
     "cell_type": "markdown",
     "metadata": {},
     "source": [
      "Sorting an array, in place **arrayname.sort( )** vs. returning a sorted copy **np.sort(arrayname)**"
     ]
    },
    {
     "cell_type": "markdown",
     "metadata": {},
     "source": [
      "First make a copy of the array, then sort that copy in place using **sort**"
     ]
    },
    {
     "cell_type": "code",
     "collapsed": false,
     "input": [
      "inc2 = inc.copy()"
     ],
     "language": "python",
     "metadata": {},
     "outputs": [],
     "prompt_number": 83
    },
    {
     "cell_type": "code",
     "collapsed": false,
     "input": [
      "inc2.sort()"
     ],
     "language": "python",
     "metadata": {},
     "outputs": [],
     "prompt_number": 84
    },
    {
     "cell_type": "code",
     "collapsed": false,
     "input": [
      "inc2"
     ],
     "language": "python",
     "metadata": {},
     "outputs": [
      {
       "output_type": "pyout",
       "prompt_number": 85,
       "text": [
        "array([  4.477   ,   7.467   ,   7.625   ,   7.856   ,   8.085   ,\n",
        "         8.438   ,   8.461   ,   8.681   ,   9.549   ,   9.798   ,\n",
        "         9.873   ,   9.918   ,   9.963   ,  10.048   ,  10.655   ,\n",
        "        10.822   ,  11.107   ,  11.252   ,  11.337   ,  11.618   ,\n",
        "        11.709   ,  11.813   ,  12.814   ,  13.185   ,  13.38    ,\n",
        "        13.598   ,  13.906   ,  14.135   ,  14.236   ,  14.948   ,\n",
        "        15.956   ,  16.028999,  16.940001,  16.961   ,  17.017   ,\n",
        "        17.586   ,  18.323999,  18.476999,  18.739   ,  18.796   ,\n",
        "        18.941999,  18.950001,  19.531   ,  21.155001,  21.232   ,\n",
        "        22.207001,  25.872999,  29.833   ,  31.07    ])"
       ]
      }
     ],
     "prompt_number": 85
    },
    {
     "cell_type": "markdown",
     "metadata": {},
     "source": [
      "Note how the original inc vector has not been changed"
     ]
    },
    {
     "cell_type": "code",
     "collapsed": false,
     "input": [
      "inc"
     ],
     "language": "python",
     "metadata": {},
     "outputs": [
      {
       "output_type": "pyout",
       "prompt_number": 86,
       "text": [
        "array([ 19.531   ,  21.232   ,  15.956   ,   4.477   ,  11.252   ,\n",
        "        16.028999,   8.438   ,  11.337   ,  17.586   ,  13.598   ,\n",
        "         7.467   ,  10.048   ,   9.549   ,   9.963   ,   9.873   ,\n",
        "         7.625   ,   9.798   ,  13.185   ,  11.618   ,  31.07    ,\n",
        "        10.655   ,  11.709   ,  21.155001,  14.236   ,   8.461   ,\n",
        "         8.085   ,  10.822   ,   7.856   ,   8.681   ,  13.906   ,\n",
        "        16.940001,  18.941999,   9.918   ,  14.948   ,  12.814   ,\n",
        "        18.739   ,  17.017   ,  11.107   ,  18.476999,  29.833   ,\n",
        "        22.207001,  25.872999,  13.38    ,  16.961   ,  14.135   ,\n",
        "        18.323999,  18.950001,  11.813   ,  18.796   ])"
       ]
      }
     ],
     "prompt_number": 86
    },
    {
     "cell_type": "markdown",
     "metadata": {},
     "source": [
      "Now return a sorted copy using **np.sort**"
     ]
    },
    {
     "cell_type": "code",
     "collapsed": false,
     "input": [
      "inc3 = np.sort(inc)"
     ],
     "language": "python",
     "metadata": {},
     "outputs": [],
     "prompt_number": 87
    },
    {
     "cell_type": "code",
     "collapsed": false,
     "input": [
      "inc3"
     ],
     "language": "python",
     "metadata": {},
     "outputs": [
      {
       "output_type": "pyout",
       "prompt_number": 88,
       "text": [
        "array([  4.477   ,   7.467   ,   7.625   ,   7.856   ,   8.085   ,\n",
        "         8.438   ,   8.461   ,   8.681   ,   9.549   ,   9.798   ,\n",
        "         9.873   ,   9.918   ,   9.963   ,  10.048   ,  10.655   ,\n",
        "        10.822   ,  11.107   ,  11.252   ,  11.337   ,  11.618   ,\n",
        "        11.709   ,  11.813   ,  12.814   ,  13.185   ,  13.38    ,\n",
        "        13.598   ,  13.906   ,  14.135   ,  14.236   ,  14.948   ,\n",
        "        15.956   ,  16.028999,  16.940001,  16.961   ,  17.017   ,\n",
        "        17.586   ,  18.323999,  18.476999,  18.739   ,  18.796   ,\n",
        "        18.941999,  18.950001,  19.531   ,  21.155001,  21.232   ,\n",
        "        22.207001,  25.872999,  29.833   ,  31.07    ])"
       ]
      }
     ],
     "prompt_number": 88
    },
    {
     "cell_type": "markdown",
     "metadata": {},
     "source": [
      "The original vector inc remains unchanged"
     ]
    },
    {
     "cell_type": "code",
     "collapsed": false,
     "input": [
      "inc"
     ],
     "language": "python",
     "metadata": {},
     "outputs": [
      {
       "output_type": "pyout",
       "prompt_number": 89,
       "text": [
        "array([ 19.531   ,  21.232   ,  15.956   ,   4.477   ,  11.252   ,\n",
        "        16.028999,   8.438   ,  11.337   ,  17.586   ,  13.598   ,\n",
        "         7.467   ,  10.048   ,   9.549   ,   9.963   ,   9.873   ,\n",
        "         7.625   ,   9.798   ,  13.185   ,  11.618   ,  31.07    ,\n",
        "        10.655   ,  11.709   ,  21.155001,  14.236   ,   8.461   ,\n",
        "         8.085   ,  10.822   ,   7.856   ,   8.681   ,  13.906   ,\n",
        "        16.940001,  18.941999,   9.918   ,  14.948   ,  12.814   ,\n",
        "        18.739   ,  17.017   ,  11.107   ,  18.476999,  29.833   ,\n",
        "        22.207001,  25.872999,  13.38    ,  16.961   ,  14.135   ,\n",
        "        18.323999,  18.950001,  11.813   ,  18.796   ])"
       ]
      }
     ],
     "prompt_number": 89
    },
    {
     "cell_type": "markdown",
     "metadata": {},
     "source": [
      "Use **numpy.argsort** to return the indices of the sorted array"
     ]
    },
    {
     "cell_type": "code",
     "collapsed": false,
     "input": [
      "incind = np.argsort(inc)"
     ],
     "language": "python",
     "metadata": {},
     "outputs": [],
     "prompt_number": 90
    },
    {
     "cell_type": "code",
     "collapsed": false,
     "input": [
      "incind"
     ],
     "language": "python",
     "metadata": {},
     "outputs": [
      {
       "output_type": "pyout",
       "prompt_number": 91,
       "text": [
        "array([ 3, 10, 15, 27, 25,  6, 24, 28, 12, 16, 14, 32, 13, 11, 20, 26, 37,\n",
        "        4,  7, 18, 21, 47, 34, 17, 42,  9, 29, 44, 23, 33,  2,  5, 30, 43,\n",
        "       36,  8, 45, 38, 35, 48, 31, 46,  0, 22,  1, 40, 41, 39, 19])"
       ]
      }
     ],
     "prompt_number": 91
    },
    {
     "cell_type": "code",
     "collapsed": false,
     "input": [
      "incsorted = inc[incind]"
     ],
     "language": "python",
     "metadata": {},
     "outputs": [],
     "prompt_number": 92
    },
    {
     "cell_type": "code",
     "collapsed": false,
     "input": [
      "incsorted"
     ],
     "language": "python",
     "metadata": {},
     "outputs": [
      {
       "output_type": "pyout",
       "prompt_number": 93,
       "text": [
        "array([  4.477   ,   7.467   ,   7.625   ,   7.856   ,   8.085   ,\n",
        "         8.438   ,   8.461   ,   8.681   ,   9.549   ,   9.798   ,\n",
        "         9.873   ,   9.918   ,   9.963   ,  10.048   ,  10.655   ,\n",
        "        10.822   ,  11.107   ,  11.252   ,  11.337   ,  11.618   ,\n",
        "        11.709   ,  11.813   ,  12.814   ,  13.185   ,  13.38    ,\n",
        "        13.598   ,  13.906   ,  14.135   ,  14.236   ,  14.948   ,\n",
        "        15.956   ,  16.028999,  16.940001,  16.961   ,  17.017   ,\n",
        "        17.586   ,  18.323999,  18.476999,  18.739   ,  18.796   ,\n",
        "        18.941999,  18.950001,  19.531   ,  21.155001,  21.232   ,\n",
        "        22.207001,  25.872999,  29.833   ,  31.07    ])"
       ]
      }
     ],
     "prompt_number": 93
    },
    {
     "cell_type": "markdown",
     "metadata": {},
     "source": [
      "###Assignment 2"
     ]
    },
    {
     "cell_type": "markdown",
     "metadata": {},
     "source": [
      "As for Assignment 1, post the results as an iPython notebook on the blackboard site by 1/31, 5pm. It will be graded.\n",
      "\n",
      "* extract two of the variables from the columbus.txt data set and list the first five observations\n",
      "\n",
      "* compute and list the descriptive statistics: min, max, mean, standard deviation, median, and interquartile range\n",
      "\n",
      "* list the observation numbers (use POLYID) of the min, max and 90% percentile\n",
      "\n",
      "* compute and list the correlation between the two variables\n",
      "\n",
      "* for one of the two variables, use the median value as a cut-off and create a 0-1 vector from the original with value = 1 if the original value exceeds the cut-off"
     ]
    }
   ],
   "metadata": {}
  }
 ]
}