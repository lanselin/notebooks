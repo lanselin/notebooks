{
 "metadata": {
  "name": "4_Matrixalgebra(2)"
 },
 "nbformat": 3,
 "nbformat_minor": 0,
 "worksheets": [
  {
   "cells": [
    {
     "cell_type": "heading",
     "level": 2,
     "metadata": {},
     "source": [
      "Matrix Algebra (2) - Linear Algebra"
     ]
    },
    {
     "cell_type": "markdown",
     "metadata": {},
     "source": [
      "*by Luc Anselin* --  <a href=\"mailto:luc.anselin@asu.edu\">luc.anselin@asu.edu</a>\n",
      "\n",
      "Lab Exercise Notes Accompanying Spring 2013 *Spatial Regression* Course\n",
      "\n",
      "(updated 7/3/2013)"
     ]
    },
    {
     "cell_type": "markdown",
     "metadata": {},
     "source": [
      "**Objectives**\n",
      "\n",
      "* matrix inverse\n",
      "\n",
      "* Cholesky decomposition\n",
      "\n",
      "* eigenvalues and eigenvectors\n",
      "\n",
      "* Ord approach to compute Jacobian determinant"
     ]
    },
    {
     "cell_type": "code",
     "collapsed": false,
     "input": [
      "import numpy as np"
     ],
     "language": "python",
     "metadata": {},
     "outputs": [],
     "prompt_number": 3
    },
    {
     "cell_type": "code",
     "collapsed": false,
     "input": [
      "import numpy.linalg as la"
     ],
     "language": "python",
     "metadata": {},
     "outputs": [],
     "prompt_number": 4
    },
    {
     "cell_type": "markdown",
     "metadata": {},
     "source": [
      "**Preliminaries**\n",
      "\n",
      "We will be working with a matrix of the form $\\mathbf{I} - \\rho \\mathbf{W}$, where $\\mathbf{W}$ is a spatial weights matrix,\n",
      "$\\mathbf{I}$ is an identity matrix of the same dimension and $\\rho$ is the spatial autoregressive coefficient.\n",
      "\n",
      "This matrix is used in many places in the estimation of spatial regression models.\n",
      "\n",
      "The example weights file is a simple $6 \\times 6$ matrix derived from the sample layout used in class.\n",
      "\n",
      "First, we will illustrate some matrix manipulations to row-standardize the weights, etc."
     ]
    },
    {
     "cell_type": "markdown",
     "metadata": {},
     "source": [
      "**Weights Matrix**"
     ]
    },
    {
     "cell_type": "code",
     "collapsed": false,
     "input": [
      "w = np.array( [ [0.0, 1.0, 0.0, 1.0, 1.0, 0.0 ],\n",
      "              [1.0, 0.0, 0.0, 1.0, 1.0, 0.0 ],\n",
      "              [0.0, 0.0, 0.0, 0.0, 1.0, 1.0 ],\n",
      "              [1.0, 1.0, 0.0, 0.0, 1.0, 0.0 ],\n",
      "              [1.0, 1.0, 1.0, 1.0, 0.0, 0.0 ],\n",
      "              [0.0, 0.0, 1.0, 0.0, 0.0, 0.0 ] ])"
     ],
     "language": "python",
     "metadata": {},
     "outputs": [],
     "prompt_number": 5
    },
    {
     "cell_type": "code",
     "collapsed": false,
     "input": [
      "w"
     ],
     "language": "python",
     "metadata": {},
     "outputs": [
      {
       "output_type": "pyout",
       "prompt_number": 6,
       "text": [
        "array([[ 0.,  1.,  0.,  1.,  1.,  0.],\n",
        "       [ 1.,  0.,  0.,  1.,  1.,  0.],\n",
        "       [ 0.,  0.,  0.,  0.,  1.,  1.],\n",
        "       [ 1.,  1.,  0.,  0.,  1.,  0.],\n",
        "       [ 1.,  1.,  1.,  1.,  0.,  0.],\n",
        "       [ 0.,  0.,  1.,  0.,  0.,  0.]])"
       ]
      }
     ],
     "prompt_number": 6
    },
    {
     "cell_type": "code",
     "collapsed": false,
     "input": [
      "w.shape"
     ],
     "language": "python",
     "metadata": {},
     "outputs": [
      {
       "output_type": "pyout",
       "prompt_number": 7,
       "text": [
        "(6, 6)"
       ]
      }
     ],
     "prompt_number": 7
    },
    {
     "cell_type": "code",
     "collapsed": false,
     "input": [
      "i = np.ones(6)"
     ],
     "language": "python",
     "metadata": {},
     "outputs": [],
     "prompt_number": 8
    },
    {
     "cell_type": "code",
     "collapsed": false,
     "input": [
      "i"
     ],
     "language": "python",
     "metadata": {},
     "outputs": [
      {
       "output_type": "pyout",
       "prompt_number": 9,
       "text": [
        "array([ 1.,  1.,  1.,  1.,  1.,  1.])"
       ]
      }
     ],
     "prompt_number": 9
    },
    {
     "cell_type": "code",
     "collapsed": false,
     "input": [
      "i.shape = (6,1)"
     ],
     "language": "python",
     "metadata": {},
     "outputs": [],
     "prompt_number": 10
    },
    {
     "cell_type": "code",
     "collapsed": false,
     "input": [
      "i"
     ],
     "language": "python",
     "metadata": {},
     "outputs": [
      {
       "output_type": "pyout",
       "prompt_number": 11,
       "text": [
        "array([[ 1.],\n",
        "       [ 1.],\n",
        "       [ 1.],\n",
        "       [ 1.],\n",
        "       [ 1.],\n",
        "       [ 1.]])"
       ]
      }
     ],
     "prompt_number": 11
    },
    {
     "cell_type": "markdown",
     "metadata": {},
     "source": [
      "Row sums as the product $\\mathbf{W} \\iota$"
     ]
    },
    {
     "cell_type": "code",
     "collapsed": false,
     "input": [
      "rowsum = np.dot(w,i)"
     ],
     "language": "python",
     "metadata": {},
     "outputs": [],
     "prompt_number": 12
    },
    {
     "cell_type": "code",
     "collapsed": false,
     "input": [
      "rowsum"
     ],
     "language": "python",
     "metadata": {},
     "outputs": [
      {
       "output_type": "pyout",
       "prompt_number": 13,
       "text": [
        "array([[ 3.],\n",
        "       [ 3.],\n",
        "       [ 2.],\n",
        "       [ 3.],\n",
        "       [ 4.],\n",
        "       [ 1.]])"
       ]
      }
     ],
     "prompt_number": 13
    },
    {
     "cell_type": "markdown",
     "metadata": {},
     "source": [
      "Row-standardized weights by element-by-element division (row sweep)"
     ]
    },
    {
     "cell_type": "code",
     "collapsed": false,
     "input": [
      "ws = w / rowsum"
     ],
     "language": "python",
     "metadata": {},
     "outputs": [],
     "prompt_number": 14
    },
    {
     "cell_type": "code",
     "collapsed": false,
     "input": [
      "ws"
     ],
     "language": "python",
     "metadata": {},
     "outputs": [
      {
       "output_type": "pyout",
       "prompt_number": 15,
       "text": [
        "array([[ 0.        ,  0.33333333,  0.        ,  0.33333333,  0.33333333,\n",
        "         0.        ],\n",
        "       [ 0.33333333,  0.        ,  0.        ,  0.33333333,  0.33333333,\n",
        "         0.        ],\n",
        "       [ 0.        ,  0.        ,  0.        ,  0.        ,  0.5       ,\n",
        "         0.5       ],\n",
        "       [ 0.33333333,  0.33333333,  0.        ,  0.        ,  0.33333333,\n",
        "         0.        ],\n",
        "       [ 0.25      ,  0.25      ,  0.25      ,  0.25      ,  0.        ,\n",
        "         0.        ],\n",
        "       [ 0.        ,  0.        ,  1.        ,  0.        ,  0.        ,\n",
        "         0.        ]])"
       ]
      }
     ],
     "prompt_number": 15
    },
    {
     "cell_type": "markdown",
     "metadata": {},
     "source": [
      "$\\mathbf{I} - \\rho \\mathbf{W}\\ $,  using $\\rho = 0.5$"
     ]
    },
    {
     "cell_type": "code",
     "collapsed": false,
     "input": [
      "irw = np.eye(6) - 0.5 * ws"
     ],
     "language": "python",
     "metadata": {},
     "outputs": [],
     "prompt_number": 16
    },
    {
     "cell_type": "code",
     "collapsed": false,
     "input": [
      "irw"
     ],
     "language": "python",
     "metadata": {},
     "outputs": [
      {
       "output_type": "pyout",
       "prompt_number": 17,
       "text": [
        "array([[ 1.        , -0.16666667,  0.        , -0.16666667, -0.16666667,\n",
        "         0.        ],\n",
        "       [-0.16666667,  1.        ,  0.        , -0.16666667, -0.16666667,\n",
        "         0.        ],\n",
        "       [ 0.        ,  0.        ,  1.        ,  0.        , -0.25      ,\n",
        "        -0.25      ],\n",
        "       [-0.16666667, -0.16666667,  0.        ,  1.        , -0.16666667,\n",
        "         0.        ],\n",
        "       [-0.125     , -0.125     , -0.125     , -0.125     ,  1.        ,\n",
        "         0.        ],\n",
        "       [ 0.        ,  0.        , -0.5       ,  0.        ,  0.        ,\n",
        "         1.        ]])"
       ]
      }
     ],
     "prompt_number": 17
    },
    {
     "cell_type": "markdown",
     "metadata": {},
     "source": [
      "###Matrix Inverse"
     ]
    },
    {
     "cell_type": "markdown",
     "metadata": {},
     "source": [
      "Use **numpy.linalg.inv( )** or, here, **la.inv( )**"
     ]
    },
    {
     "cell_type": "code",
     "collapsed": false,
     "input": [
      "irwinv = la.inv(irw)"
     ],
     "language": "python",
     "metadata": {},
     "outputs": [],
     "prompt_number": 18
    },
    {
     "cell_type": "code",
     "collapsed": false,
     "input": [
      "irwinv"
     ],
     "language": "python",
     "metadata": {},
     "outputs": [
      {
       "output_type": "pyout",
       "prompt_number": 19,
       "text": [
        "array([[ 1.12527473,  0.26813187,  0.04102564,  0.26813187,  0.28717949,\n",
        "         0.01025641],\n",
        "       [ 0.26813187,  1.12527473,  0.04102564,  0.26813187,  0.28717949,\n",
        "         0.01025641],\n",
        "       [ 0.06153846,  0.06153846,  1.18974359,  0.06153846,  0.32820513,\n",
        "         0.2974359 ],\n",
        "       [ 0.26813187,  0.26813187,  0.04102564,  1.12527473,  0.28717949,\n",
        "         0.01025641],\n",
        "       [ 0.21538462,  0.21538462,  0.16410256,  0.21538462,  1.14871795,\n",
        "         0.04102564],\n",
        "       [ 0.03076923,  0.03076923,  0.59487179,  0.03076923,  0.16410256,\n",
        "         1.14871795]])"
       ]
      }
     ],
     "prompt_number": 19
    },
    {
     "cell_type": "code",
     "collapsed": false,
     "input": [
      "test = np.dot(irw,irwinv)"
     ],
     "language": "python",
     "metadata": {},
     "outputs": [],
     "prompt_number": 20
    },
    {
     "cell_type": "code",
     "collapsed": false,
     "input": [
      "test"
     ],
     "language": "python",
     "metadata": {},
     "outputs": [
      {
       "output_type": "pyout",
       "prompt_number": 21,
       "text": [
        "array([[  1.00000000e+00,   2.08166817e-17,   3.46944695e-18,\n",
        "         -1.38777878e-17,   0.00000000e+00,   8.67361738e-19],\n",
        "       [ -2.08166817e-17,   1.00000000e+00,  -1.04083409e-17,\n",
        "         -1.38777878e-17,  -5.55111512e-17,  -2.60208521e-18],\n",
        "       [  8.67361738e-19,   0.00000000e+00,   1.00000000e+00,\n",
        "          8.67361738e-19,   2.08166817e-17,   0.00000000e+00],\n",
        "       [ -6.93889390e-17,  -4.85722573e-17,   0.00000000e+00,\n",
        "          1.00000000e+00,  -5.55111512e-17,   0.00000000e+00],\n",
        "       [ -2.77555756e-17,   0.00000000e+00,   0.00000000e+00,\n",
        "         -2.77555756e-17,   1.00000000e+00,   0.00000000e+00],\n",
        "       [  0.00000000e+00,  -3.46944695e-18,   0.00000000e+00,\n",
        "          0.00000000e+00,   0.00000000e+00,   1.00000000e+00]])"
       ]
      }
     ],
     "prompt_number": 21
    },
    {
     "cell_type": "markdown",
     "metadata": {},
     "source": [
      "###Cholesky Decomposition"
     ]
    },
    {
     "cell_type": "markdown",
     "metadata": {},
     "source": [
      "Cholesky decomposition $\\mathbf{A} = \\mathbf{L}\\mathbf{U}$, where $\\mathbf{L}$ is lower\n",
      "triangular and $\\mathbf{U}$ is upper triangular, with $\\mathbf{U} = \\mathbf{L'}$.\n",
      "\n",
      "Cholesky decomposition is for symmetric matrices only, so first we construct $\\mathbf{(I - \\rho W)'(I - \\rho W)}$"
     ]
    },
    {
     "cell_type": "code",
     "collapsed": false,
     "input": [
      "symirw = np.dot(irw.T,irw)"
     ],
     "language": "python",
     "metadata": {},
     "outputs": [],
     "prompt_number": 22
    },
    {
     "cell_type": "code",
     "collapsed": false,
     "input": [
      "symirw"
     ],
     "language": "python",
     "metadata": {},
     "outputs": [
      {
       "output_type": "pyout",
       "prompt_number": 23,
       "text": [
        "array([[ 1.07118056, -0.28993056,  0.015625  , -0.28993056, -0.23611111,\n",
        "         0.        ],\n",
        "       [-0.28993056,  1.07118056,  0.015625  , -0.28993056, -0.23611111,\n",
        "         0.        ],\n",
        "       [ 0.015625  ,  0.015625  ,  1.265625  ,  0.015625  , -0.375     ,\n",
        "        -0.75      ],\n",
        "       [-0.28993056, -0.28993056,  0.015625  ,  1.07118056, -0.23611111,\n",
        "         0.        ],\n",
        "       [-0.23611111, -0.23611111, -0.375     , -0.23611111,  1.14583333,\n",
        "         0.0625    ],\n",
        "       [ 0.        ,  0.        , -0.75      ,  0.        ,  0.0625    ,\n",
        "         1.0625    ]])"
       ]
      }
     ],
     "prompt_number": 23
    },
    {
     "cell_type": "markdown",
     "metadata": {},
     "source": [
      "Use **numpy.linalg.cholesky( )** or here **la.cholesky( )**"
     ]
    },
    {
     "cell_type": "code",
     "collapsed": false,
     "input": [
      "cholirw = la.cholesky(symirw)"
     ],
     "language": "python",
     "metadata": {},
     "outputs": [],
     "prompt_number": 24
    },
    {
     "cell_type": "code",
     "collapsed": false,
     "input": [
      "cholirw"
     ],
     "language": "python",
     "metadata": {},
     "outputs": [
      {
       "output_type": "pyout",
       "prompt_number": 25,
       "text": [
        "array([[ 1.03497853, -0.        ,  0.        , -0.        , -0.        ,\n",
        "         0.        ],\n",
        "       [-0.28013195,  0.99634665,  0.        , -0.        , -0.        ,\n",
        "         0.        ],\n",
        "       [ 0.01509693,  0.01992693,  1.12472219,  0.        , -0.        ,\n",
        "        -0.        ],\n",
        "       [-0.28013195, -0.36975531,  0.02420351,  0.92487937, -0.        ,\n",
        "         0.        ],\n",
        "       [-0.22813141, -0.3011181 , -0.32501853, -0.43626385,  0.84092454,\n",
        "         0.        ],\n",
        "       [ 0.        ,  0.        , -0.66683134,  0.01745055, -0.17435512,\n",
        "         0.76624522]])"
       ]
      }
     ],
     "prompt_number": 25
    },
    {
     "cell_type": "markdown",
     "metadata": {},
     "source": [
      "Check result"
     ]
    },
    {
     "cell_type": "code",
     "collapsed": false,
     "input": [
      "check = np.dot(cholirw,cholirw.T)"
     ],
     "language": "python",
     "metadata": {},
     "outputs": [],
     "prompt_number": 26
    },
    {
     "cell_type": "code",
     "collapsed": false,
     "input": [
      "check"
     ],
     "language": "python",
     "metadata": {},
     "outputs": [
      {
       "output_type": "pyout",
       "prompt_number": 27,
       "text": [
        "array([[ 1.07118056, -0.28993056,  0.015625  , -0.28993056, -0.23611111,\n",
        "         0.        ],\n",
        "       [-0.28993056,  1.07118056,  0.015625  , -0.28993056, -0.23611111,\n",
        "         0.        ],\n",
        "       [ 0.015625  ,  0.015625  ,  1.265625  ,  0.015625  , -0.375     ,\n",
        "        -0.75      ],\n",
        "       [-0.28993056, -0.28993056,  0.015625  ,  1.07118056, -0.23611111,\n",
        "         0.        ],\n",
        "       [-0.23611111, -0.23611111, -0.375     , -0.23611111,  1.14583333,\n",
        "         0.0625    ],\n",
        "       [ 0.        ,  0.        , -0.75      ,  0.        ,  0.0625    ,\n",
        "         1.0625    ]])"
       ]
      }
     ],
     "prompt_number": 27
    },
    {
     "cell_type": "markdown",
     "metadata": {},
     "source": [
      "The determinant of a matrix equals the square of the determinant of its lower diagonal Choleski decomposition.\n",
      "\n",
      "The determinant of a triangular matrix is the product of the diagonal elements."
     ]
    },
    {
     "cell_type": "code",
     "collapsed": false,
     "input": [
      "det1 = la.det(symirw)"
     ],
     "language": "python",
     "metadata": {},
     "outputs": [],
     "prompt_number": 28
    },
    {
     "cell_type": "code",
     "collapsed": false,
     "input": [
      "det1"
     ],
     "language": "python",
     "metadata": {},
     "outputs": [
      {
       "output_type": "pyout",
       "prompt_number": 29,
       "text": [
        "0.47774256011586125"
       ]
      }
     ],
     "prompt_number": 29
    },
    {
     "cell_type": "markdown",
     "metadata": {},
     "source": [
      "determinant of $\\mathbf{L}$"
     ]
    },
    {
     "cell_type": "code",
     "collapsed": false,
     "input": [
      "det2 = la.det(cholirw)"
     ],
     "language": "python",
     "metadata": {},
     "outputs": [],
     "prompt_number": 33
    },
    {
     "cell_type": "code",
     "collapsed": false,
     "input": [
      "det2"
     ],
     "language": "python",
     "metadata": {},
     "outputs": [
      {
       "output_type": "pyout",
       "prompt_number": 34,
       "text": [
        "0.69118923611111083"
       ]
      }
     ],
     "prompt_number": 34
    },
    {
     "cell_type": "markdown",
     "metadata": {},
     "source": [
      "determinant as the product of the diagonal elements"
     ]
    },
    {
     "cell_type": "code",
     "collapsed": false,
     "input": [
      "det2a = np.diagonal(cholirw).prod()"
     ],
     "language": "python",
     "metadata": {},
     "outputs": [],
     "prompt_number": 35
    },
    {
     "cell_type": "code",
     "collapsed": false,
     "input": [
      "det2a"
     ],
     "language": "python",
     "metadata": {},
     "outputs": [
      {
       "output_type": "pyout",
       "prompt_number": 36,
       "text": [
        "0.69118923611111083"
       ]
      }
     ],
     "prompt_number": 36
    },
    {
     "cell_type": "markdown",
     "metadata": {},
     "source": [
      "note that this is the determinant of $\\mathbf{I - \\rho W}$"
     ]
    },
    {
     "cell_type": "markdown",
     "metadata": {},
     "source": [
      "the determinant of $\\mathbf{(I - \\rho W)'(I - \\rho W)}$ is the square of the determinant of $\\mathbf{I - \\rho W}$"
     ]
    },
    {
     "cell_type": "code",
     "collapsed": false,
     "input": [
      "det2a**2"
     ],
     "language": "python",
     "metadata": {},
     "outputs": [
      {
       "output_type": "pyout",
       "prompt_number": 37,
       "text": [
        "0.47774256011586091"
       ]
      }
     ],
     "prompt_number": 37
    },
    {
     "cell_type": "markdown",
     "metadata": {},
     "source": [
      "###Eigenvalues and Eigenvectors"
     ]
    },
    {
     "cell_type": "markdown",
     "metadata": {},
     "source": [
      "Eigenvalues of the unstandardized weights matrix $\\mathbf{W}$\n",
      "\n",
      "a symmetric matrix\n",
      "\n",
      "Use **numpy.linalg.eig( )** or here **la.eig( )** which returns a tuple: (eigenvalues, eigenvectors)"
     ]
    },
    {
     "cell_type": "code",
     "collapsed": false,
     "input": [
      "vals, vecs = la.eig(w)"
     ],
     "language": "python",
     "metadata": {},
     "outputs": [],
     "prompt_number": 38
    },
    {
     "cell_type": "code",
     "collapsed": false,
     "input": [
      "vals"
     ],
     "language": "python",
     "metadata": {},
     "outputs": [
      {
       "output_type": "pyout",
       "prompt_number": 39,
       "text": [
        "array([ 3.09650721,  1.11688389, -1.70446781, -0.50892329, -1.        , -1.        ])"
       ]
      }
     ],
     "prompt_number": 39
    },
    {
     "cell_type": "code",
     "collapsed": false,
     "input": [
      "vecs"
     ],
     "language": "python",
     "metadata": {},
     "outputs": [
      {
       "output_type": "pyout",
       "prompt_number": 40,
       "text": [
        "array([[ -4.78095578e-01,  -1.75655815e-01,  -1.78210118e-01,\n",
        "          2.05290379e-01,  -5.99022739e-01,   5.98015334e-01],\n",
        "       [ -4.78095578e-01,  -1.75655815e-01,  -1.78210118e-01,\n",
        "          2.05290379e-01,  -1.80987141e-01,  -7.80446391e-01],\n",
        "       [ -1.89011501e-01,   7.00223478e-01,  -5.90614380e-01,\n",
        "         -3.53746220e-01,   2.08883362e-16,  -3.41237822e-16],\n",
        "       [ -4.78095578e-01,  -1.75655815e-01,  -1.78210118e-01,\n",
        "          2.05290379e-01,   7.80009880e-01,   1.82431058e-01],\n",
        "       [ -5.24235251e-01,   1.55124480e-01,   6.60173648e-01,\n",
        "         -5.15057814e-01,  -1.56382592e-16,   1.87688519e-16],\n",
        "       [ -6.10402263e-02,   6.26943842e-01,   3.46509553e-01,\n",
        "          6.95087505e-01,  -2.86699283e-16,   2.22543565e-16]])"
       ]
      }
     ],
     "prompt_number": 40
    },
    {
     "cell_type": "markdown",
     "metadata": {},
     "source": [
      "Eigenvalues of a row-standardized weights matrix.\n",
      "\n",
      "A row-standardized weights matrix is not symmetric, so use **numpy.linalg.eigvals( )** or here **la.eigvals( )**.\n",
      "\n",
      "Note: **eigvals** does not return the eigenvectors."
     ]
    },
    {
     "cell_type": "code",
     "collapsed": false,
     "input": [
      "vals2 = la.eigvals(ws)"
     ],
     "language": "python",
     "metadata": {},
     "outputs": [],
     "prompt_number": 41
    },
    {
     "cell_type": "code",
     "collapsed": false,
     "input": [
      "vals2"
     ],
     "language": "python",
     "metadata": {},
     "outputs": [
      {
       "output_type": "pyout",
       "prompt_number": 42,
       "text": [
        "array([ 1.        ,  0.69844261, -0.81113496, -0.22064097, -0.33333333,\n",
        "       -0.33333333])"
       ]
      }
     ],
     "prompt_number": 42
    },
    {
     "cell_type": "markdown",
     "metadata": {},
     "source": [
      "Note how largest eigenvalue is 1."
     ]
    },
    {
     "cell_type": "markdown",
     "metadata": {},
     "source": [
      "you can also use **eigvals** if you only want the eigenvalues of a symmetric matrix"
     ]
    },
    {
     "cell_type": "code",
     "collapsed": false,
     "input": [
      "vals1a = la.eigvals(w)"
     ],
     "language": "python",
     "metadata": {},
     "outputs": [],
     "prompt_number": 48
    },
    {
     "cell_type": "code",
     "collapsed": false,
     "input": [
      "vals1a"
     ],
     "language": "python",
     "metadata": {},
     "outputs": [
      {
       "output_type": "pyout",
       "prompt_number": 49,
       "text": [
        "array([ 3.09650721,  1.11688389, -1.70446781, -0.50892329, -1.        , -1.        ])"
       ]
      }
     ],
     "prompt_number": 49
    },
    {
     "cell_type": "markdown",
     "metadata": {},
     "source": [
      "Converting a row-standardized weights matrix $\\mathbf{W_s}$ (computed from an originally\n",
      "symmetric one) to a symmetric matrix with the same eigenvalues, by\n",
      "means of the transformation $\\mathbf{W^*} = \\mathbf{K^{1/2}W_s K^{-1/2}}$, where $\\mathbf{K}$ is a vector\n",
      "with the row sums of the original un-standardized matrix. Note that the eigenvalues\n",
      "of interest are the ones of $\\mathbf{W_s}$ **not** $\\mathbf{W}$. The only rationale for\n",
      "using this approach is that it is numerically easier to compute the eigenvalues of symmetric\n",
      "matrices since one does not have to worry about complex eigenvalues."
     ]
    },
    {
     "cell_type": "code",
     "collapsed": false,
     "input": [
      "ws"
     ],
     "language": "python",
     "metadata": {},
     "outputs": [
      {
       "output_type": "pyout",
       "prompt_number": 50,
       "text": [
        "array([[ 0.        ,  0.33333333,  0.        ,  0.33333333,  0.33333333,\n",
        "         0.        ],\n",
        "       [ 0.33333333,  0.        ,  0.        ,  0.33333333,  0.33333333,\n",
        "         0.        ],\n",
        "       [ 0.        ,  0.        ,  0.        ,  0.        ,  0.5       ,\n",
        "         0.5       ],\n",
        "       [ 0.33333333,  0.33333333,  0.        ,  0.        ,  0.33333333,\n",
        "         0.        ],\n",
        "       [ 0.25      ,  0.25      ,  0.25      ,  0.25      ,  0.        ,\n",
        "         0.        ],\n",
        "       [ 0.        ,  0.        ,  1.        ,  0.        ,  0.        ,\n",
        "         0.        ]])"
       ]
      }
     ],
     "prompt_number": 50
    },
    {
     "cell_type": "code",
     "collapsed": false,
     "input": [
      "rowsumsr = sqrt(rowsum)"
     ],
     "language": "python",
     "metadata": {},
     "outputs": [],
     "prompt_number": 51
    },
    {
     "cell_type": "code",
     "collapsed": false,
     "input": [
      "rowsumsr"
     ],
     "language": "python",
     "metadata": {},
     "outputs": [
      {
       "output_type": "pyout",
       "prompt_number": 52,
       "text": [
        "array([[ 1.73205081],\n",
        "       [ 1.73205081],\n",
        "       [ 1.41421356],\n",
        "       [ 1.73205081],\n",
        "       [ 2.        ],\n",
        "       [ 1.        ]])"
       ]
      }
     ],
     "prompt_number": 52
    },
    {
     "cell_type": "code",
     "collapsed": false,
     "input": [
      "rowsumisr = 1.0 / rowsumsr"
     ],
     "language": "python",
     "metadata": {},
     "outputs": [],
     "prompt_number": 53
    },
    {
     "cell_type": "code",
     "collapsed": false,
     "input": [
      "rowsumisr"
     ],
     "language": "python",
     "metadata": {},
     "outputs": [
      {
       "output_type": "pyout",
       "prompt_number": 54,
       "text": [
        "array([[ 0.57735027],\n",
        "       [ 0.57735027],\n",
        "       [ 0.70710678],\n",
        "       [ 0.57735027],\n",
        "       [ 0.5       ],\n",
        "       [ 1.        ]])"
       ]
      }
     ],
     "prompt_number": 54
    },
    {
     "cell_type": "markdown",
     "metadata": {},
     "source": [
      "Using full matrices"
     ]
    },
    {
     "cell_type": "markdown",
     "metadata": {},
     "source": [
      "Use **diagflat** to make sure the vector passed is an **array** type (quirky thing but something you need to keep in mind)"
     ]
    },
    {
     "cell_type": "code",
     "collapsed": false,
     "input": [
      "k12 = np.diagflat(rowsumsr)"
     ],
     "language": "python",
     "metadata": {},
     "outputs": [],
     "prompt_number": 55
    },
    {
     "cell_type": "code",
     "collapsed": false,
     "input": [
      "k12"
     ],
     "language": "python",
     "metadata": {},
     "outputs": [
      {
       "output_type": "pyout",
       "prompt_number": 56,
       "text": [
        "array([[ 1.73205081,  0.        ,  0.        ,  0.        ,  0.        ,\n",
        "         0.        ],\n",
        "       [ 0.        ,  1.73205081,  0.        ,  0.        ,  0.        ,\n",
        "         0.        ],\n",
        "       [ 0.        ,  0.        ,  1.41421356,  0.        ,  0.        ,\n",
        "         0.        ],\n",
        "       [ 0.        ,  0.        ,  0.        ,  1.73205081,  0.        ,\n",
        "         0.        ],\n",
        "       [ 0.        ,  0.        ,  0.        ,  0.        ,  2.        ,\n",
        "         0.        ],\n",
        "       [ 0.        ,  0.        ,  0.        ,  0.        ,  0.        ,\n",
        "         1.        ]])"
       ]
      }
     ],
     "prompt_number": 56
    },
    {
     "cell_type": "code",
     "collapsed": false,
     "input": [
      "ki12 = np.diagflat(rowsumisr)"
     ],
     "language": "python",
     "metadata": {},
     "outputs": [],
     "prompt_number": 57
    },
    {
     "cell_type": "code",
     "collapsed": false,
     "input": [
      "ki12"
     ],
     "language": "python",
     "metadata": {},
     "outputs": [
      {
       "output_type": "pyout",
       "prompt_number": 58,
       "text": [
        "array([[ 0.57735027,  0.        ,  0.        ,  0.        ,  0.        ,\n",
        "         0.        ],\n",
        "       [ 0.        ,  0.57735027,  0.        ,  0.        ,  0.        ,\n",
        "         0.        ],\n",
        "       [ 0.        ,  0.        ,  0.70710678,  0.        ,  0.        ,\n",
        "         0.        ],\n",
        "       [ 0.        ,  0.        ,  0.        ,  0.57735027,  0.        ,\n",
        "         0.        ],\n",
        "       [ 0.        ,  0.        ,  0.        ,  0.        ,  0.5       ,\n",
        "         0.        ],\n",
        "       [ 0.        ,  0.        ,  0.        ,  0.        ,  0.        ,\n",
        "         1.        ]])"
       ]
      }
     ],
     "prompt_number": 58
    },
    {
     "cell_type": "code",
     "collapsed": false,
     "input": [
      "wss = np.dot(np.dot(k12,ws),ki12)"
     ],
     "language": "python",
     "metadata": {},
     "outputs": [],
     "prompt_number": 59
    },
    {
     "cell_type": "code",
     "collapsed": false,
     "input": [
      "wss"
     ],
     "language": "python",
     "metadata": {},
     "outputs": [
      {
       "output_type": "pyout",
       "prompt_number": 60,
       "text": [
        "array([[ 0.        ,  0.33333333,  0.        ,  0.33333333,  0.28867513,\n",
        "         0.        ],\n",
        "       [ 0.33333333,  0.        ,  0.        ,  0.33333333,  0.28867513,\n",
        "         0.        ],\n",
        "       [ 0.        ,  0.        ,  0.        ,  0.        ,  0.35355339,\n",
        "         0.70710678],\n",
        "       [ 0.33333333,  0.33333333,  0.        ,  0.        ,  0.28867513,\n",
        "         0.        ],\n",
        "       [ 0.28867513,  0.28867513,  0.35355339,  0.28867513,  0.        ,\n",
        "         0.        ],\n",
        "       [ 0.        ,  0.        ,  0.70710678,  0.        ,  0.        ,\n",
        "         0.        ]])"
       ]
      }
     ],
     "prompt_number": 60
    },
    {
     "cell_type": "code",
     "collapsed": false,
     "input": [
      "check = (wss == wss.T)"
     ],
     "language": "python",
     "metadata": {},
     "outputs": [],
     "prompt_number": 64
    },
    {
     "cell_type": "code",
     "collapsed": false,
     "input": [
      "check"
     ],
     "language": "python",
     "metadata": {},
     "outputs": [
      {
       "output_type": "pyout",
       "prompt_number": 65,
       "text": [
        "array([[ True,  True,  True,  True, False,  True],\n",
        "       [ True,  True,  True,  True, False,  True],\n",
        "       [ True,  True,  True,  True, False, False],\n",
        "       [ True,  True,  True,  True, False,  True],\n",
        "       [False, False, False, False,  True,  True],\n",
        "       [ True,  True, False,  True,  True,  True]], dtype=bool)"
       ]
      }
     ],
     "prompt_number": 65
    },
    {
     "cell_type": "markdown",
     "metadata": {},
     "source": [
      "note how there are some rounding issues indicated by the False results"
     ]
    },
    {
     "cell_type": "code",
     "collapsed": false,
     "input": [
      "valseq , veceq = la.eig(wss)"
     ],
     "language": "python",
     "metadata": {},
     "outputs": [],
     "prompt_number": 66
    },
    {
     "cell_type": "code",
     "collapsed": false,
     "input": [
      "valseq"
     ],
     "language": "python",
     "metadata": {},
     "outputs": [
      {
       "output_type": "pyout",
       "prompt_number": 67,
       "text": [
        "array([ 1.00000000 +0.00000000e+00j,  0.69844261 +0.00000000e+00j,\n",
        "       -0.81113496 +0.00000000e+00j, -0.22064097 +0.00000000e+00j,\n",
        "       -0.33333333 +2.41901811e-17j, -0.33333333 -2.41901811e-17j])"
       ]
      }
     ],
     "prompt_number": 67
    },
    {
     "cell_type": "markdown",
     "metadata": {},
     "source": [
      "Note the effect of rounding errors, which makes the matrix seem asymmetric, hence the complex values."
     ]
    },
    {
     "cell_type": "markdown",
     "metadata": {},
     "source": [
      "alternative approach, using sweep operator for higher precision"
     ]
    },
    {
     "cell_type": "code",
     "collapsed": false,
     "input": [
      "w11 = ws * rowsumisr"
     ],
     "language": "python",
     "metadata": {},
     "outputs": [],
     "prompt_number": 70
    },
    {
     "cell_type": "code",
     "collapsed": false,
     "input": [
      "w11"
     ],
     "language": "python",
     "metadata": {},
     "outputs": [
      {
       "output_type": "pyout",
       "prompt_number": 71,
       "text": [
        "array([[ 0.        ,  0.19245009,  0.        ,  0.19245009,  0.19245009,\n",
        "         0.        ],\n",
        "       [ 0.19245009,  0.        ,  0.        ,  0.19245009,  0.19245009,\n",
        "         0.        ],\n",
        "       [ 0.        ,  0.        ,  0.        ,  0.        ,  0.35355339,\n",
        "         0.35355339],\n",
        "       [ 0.19245009,  0.19245009,  0.        ,  0.        ,  0.19245009,\n",
        "         0.        ],\n",
        "       [ 0.125     ,  0.125     ,  0.125     ,  0.125     ,  0.        ,\n",
        "         0.        ],\n",
        "       [ 0.        ,  0.        ,  1.        ,  0.        ,  0.        ,\n",
        "         0.        ]])"
       ]
      }
     ],
     "prompt_number": 71
    },
    {
     "cell_type": "code",
     "collapsed": false,
     "input": [
      "w12 = w11 * rowsumsr.T"
     ],
     "language": "python",
     "metadata": {},
     "outputs": [],
     "prompt_number": 72
    },
    {
     "cell_type": "code",
     "collapsed": false,
     "input": [
      "w12"
     ],
     "language": "python",
     "metadata": {},
     "outputs": [
      {
       "output_type": "pyout",
       "prompt_number": 73,
       "text": [
        "array([[ 0.        ,  0.33333333,  0.        ,  0.33333333,  0.38490018,\n",
        "         0.        ],\n",
        "       [ 0.33333333,  0.        ,  0.        ,  0.33333333,  0.38490018,\n",
        "         0.        ],\n",
        "       [ 0.        ,  0.        ,  0.        ,  0.        ,  0.70710678,\n",
        "         0.35355339],\n",
        "       [ 0.33333333,  0.33333333,  0.        ,  0.        ,  0.38490018,\n",
        "         0.        ],\n",
        "       [ 0.21650635,  0.21650635,  0.1767767 ,  0.21650635,  0.        ,\n",
        "         0.        ],\n",
        "       [ 0.        ,  0.        ,  1.41421356,  0.        ,  0.        ,\n",
        "         0.        ]])"
       ]
      }
     ],
     "prompt_number": 73
    },
    {
     "cell_type": "code",
     "collapsed": false,
     "input": [
      "check = (w12 == w12.T)"
     ],
     "language": "python",
     "metadata": {},
     "outputs": [],
     "prompt_number": 74
    },
    {
     "cell_type": "code",
     "collapsed": false,
     "input": [
      "check"
     ],
     "language": "python",
     "metadata": {},
     "outputs": [
      {
       "output_type": "pyout",
       "prompt_number": 75,
       "text": [
        "array([[ True,  True,  True,  True, False,  True],\n",
        "       [ True,  True,  True,  True, False,  True],\n",
        "       [ True,  True,  True,  True, False, False],\n",
        "       [ True,  True,  True,  True, False,  True],\n",
        "       [False, False, False, False,  True,  True],\n",
        "       [ True,  True, False,  True,  True,  True]], dtype=bool)"
       ]
      }
     ],
     "prompt_number": 75
    },
    {
     "cell_type": "markdown",
     "metadata": {},
     "source": [
      "still some rounding issues"
     ]
    },
    {
     "cell_type": "code",
     "collapsed": false,
     "input": [
      "vals3, vec3 = la.eig(w12)"
     ],
     "language": "python",
     "metadata": {},
     "outputs": [],
     "prompt_number": 76
    },
    {
     "cell_type": "code",
     "collapsed": false,
     "input": [
      "vals3"
     ],
     "language": "python",
     "metadata": {},
     "outputs": [
      {
       "output_type": "pyout",
       "prompt_number": 77,
       "text": [
        "array([ 1.        ,  0.69844261, -0.81113496, -0.22064097, -0.33333333,\n",
        "       -0.33333333])"
       ]
      }
     ],
     "prompt_number": 77
    },
    {
     "cell_type": "markdown",
     "metadata": {},
     "source": [
      "alternatively, using **eigvals**"
     ]
    },
    {
     "cell_type": "code",
     "collapsed": false,
     "input": [
      "vals3a = la.eigvals(w12)"
     ],
     "language": "python",
     "metadata": {},
     "outputs": [],
     "prompt_number": 78
    },
    {
     "cell_type": "code",
     "collapsed": false,
     "input": [
      "vals3a"
     ],
     "language": "python",
     "metadata": {},
     "outputs": [
      {
       "output_type": "pyout",
       "prompt_number": 79,
       "text": [
        "array([ 1.        ,  0.69844261, -0.81113496, -0.22064097, -0.33333333,\n",
        "       -0.33333333])"
       ]
      }
     ],
     "prompt_number": 79
    },
    {
     "cell_type": "markdown",
     "metadata": {},
     "source": [
      "###Ord Approach"
     ]
    },
    {
     "cell_type": "markdown",
     "metadata": {},
     "source": [
      "Computation of the determinant of $\\mathbf{I - \\rho W}\\ $ from the eigenvalues of $\\mathbf{W}$"
     ]
    },
    {
     "cell_type": "code",
     "collapsed": false,
     "input": [
      "det1 = la.det(irw)"
     ],
     "language": "python",
     "metadata": {},
     "outputs": [],
     "prompt_number": 80
    },
    {
     "cell_type": "code",
     "collapsed": false,
     "input": [
      "det1"
     ],
     "language": "python",
     "metadata": {},
     "outputs": [
      {
       "output_type": "pyout",
       "prompt_number": 81,
       "text": [
        "0.69118923611111116"
       ]
      }
     ],
     "prompt_number": 81
    },
    {
     "cell_type": "markdown",
     "metadata": {},
     "source": [
      "Note how this is exactly the determinant of the lower diagonal in the Choleski decomposition."
     ]
    },
    {
     "cell_type": "markdown",
     "metadata": {},
     "source": [
      "Create the vector with $1 - \\rho \\omega_i \\ $ with $\\omega_i\\ $ as the eigenvalues."
     ]
    },
    {
     "cell_type": "code",
     "collapsed": false,
     "input": [
      "onemrhow = 1.0 - 0.5 * vals3"
     ],
     "language": "python",
     "metadata": {},
     "outputs": [],
     "prompt_number": 82
    },
    {
     "cell_type": "code",
     "collapsed": false,
     "input": [
      "onemrhow"
     ],
     "language": "python",
     "metadata": {},
     "outputs": [
      {
       "output_type": "pyout",
       "prompt_number": 83,
       "text": [
        "array([ 0.5       ,  0.6507787 ,  1.40556748,  1.11032049,  1.16666667,\n",
        "        1.16666667])"
       ]
      }
     ],
     "prompt_number": 83
    },
    {
     "cell_type": "code",
     "collapsed": false,
     "input": [
      "det2 = np.prod(onemrhow)"
     ],
     "language": "python",
     "metadata": {},
     "outputs": [],
     "prompt_number": 84
    },
    {
     "cell_type": "code",
     "collapsed": false,
     "input": [
      "det2"
     ],
     "language": "python",
     "metadata": {},
     "outputs": [
      {
       "output_type": "pyout",
       "prompt_number": 85,
       "text": [
        "0.69118923611111116"
       ]
      }
     ],
     "prompt_number": 85
    },
    {
     "cell_type": "markdown",
     "metadata": {},
     "source": [
      "###Assignment 4###"
     ]
    },
    {
     "cell_type": "markdown",
     "metadata": {},
     "source": [
      "* load the Columbus data as X and compute the multicollinearity condition number for a regression of CRIME on a constant, INC and HOVAL\n",
      "\n",
      "* using the Columbus data set, calculate the regression coefficients in a regression of CRIME on a constant, INC and HOVAL\n",
      "\n",
      "* compute the variance-covariance matrix of the coefficient estimates\n",
      "\n",
      "* **Challenge**: assuming an equal 1000 houses in each neighborhood, assess the aggregate effect of a decrease of the crime rate by 10% in the neighborhoods with below median income (hint: use a regression of HOVAL on INC and CRIME as the starting point)"
     ]
    }
   ],
   "metadata": {}
  }
 ]
}