{
 "metadata": {
  "name": "7_SpatialWeights"
 },
 "nbformat": 3,
 "nbformat_minor": 0,
 "worksheets": [
  {
   "cells": [
    {
     "cell_type": "markdown",
     "metadata": {},
     "source": [
      "##Spatial Weights in PySAL##"
     ]
    },
    {
     "cell_type": "markdown",
     "metadata": {},
     "source": [
      "*by Luc Anselin* --  <a href=\"mailto:luc.anselin@asu.edu\">luc.anselin@asu.edu</a>\n",
      "\n",
      "Lab Exercise Notes Accompanying Spring 2013 *Spatial Regression* Course\n",
      "\n",
      "(updated 7/4/2013)"
     ]
    },
    {
     "cell_type": "markdown",
     "metadata": {},
     "source": [
      "**Objectives**\n",
      "\n",
      "* reading and writing spatial weights\n",
      "\n",
      "* contiguity weights from a shape file\n",
      "\n",
      "* weights transformations\n",
      "\n",
      "* distance weights from a shape file\n",
      "\n",
      "* kernel weights\n",
      "\n",
      "* special weights (regular lattice, full matrix)\n",
      "\n",
      "* weights characteristics\n",
      "\n",
      "* spatially lagged variables"
     ]
    },
    {
     "cell_type": "markdown",
     "metadata": {},
     "source": [
      "**Preliminaries**\n",
      "\n",
      "import **numpy** and **pysal**"
     ]
    },
    {
     "cell_type": "code",
     "collapsed": false,
     "input": [
      "import numpy\n",
      "import pysal"
     ],
     "language": "python",
     "metadata": {},
     "outputs": [],
     "prompt_number": 1
    },
    {
     "cell_type": "markdown",
     "metadata": {},
     "source": [
      "###Reading and writing spatial weights###"
     ]
    },
    {
     "cell_type": "markdown",
     "metadata": {},
     "source": [
      "**Reading form a GAL file**"
     ]
    },
    {
     "cell_type": "markdown",
     "metadata": {},
     "source": [
      "the file **nat_queen.gal** is assumed to be in the **data** directory, otherwise\n",
      "adjust the path"
     ]
    },
    {
     "cell_type": "code",
     "collapsed": false,
     "input": [
      "galw = pysal.open(\"data/nat_queen.gal\",'r')"
     ],
     "language": "python",
     "metadata": {},
     "outputs": [],
     "prompt_number": 2
    },
    {
     "cell_type": "code",
     "collapsed": false,
     "input": [
      "w = galw.read()"
     ],
     "language": "python",
     "metadata": {},
     "outputs": [],
     "prompt_number": 3
    },
    {
     "cell_type": "markdown",
     "metadata": {},
     "source": [
      "this creates **w** as a spatial weights object"
     ]
    },
    {
     "cell_type": "code",
     "collapsed": false,
     "input": [
      "galw.close()"
     ],
     "language": "python",
     "metadata": {},
     "outputs": [],
     "prompt_number": 4
    },
    {
     "cell_type": "markdown",
     "metadata": {},
     "source": [
      "**Attributes of the weights object**"
     ]
    },
    {
     "cell_type": "markdown",
     "metadata": {},
     "source": [
      "**w** is a weights object with many attributes"
     ]
    },
    {
     "cell_type": "code",
     "collapsed": false,
     "input": [
      "dir(w)"
     ],
     "language": "python",
     "metadata": {},
     "outputs": [
      {
       "output_type": "pyout",
       "prompt_number": 5,
       "text": [
        "['_W__get_id_order',\n",
        " '_W__set_id_order',\n",
        " '__class__',\n",
        " '__delattr__',\n",
        " '__dict__',\n",
        " '__doc__',\n",
        " '__format__',\n",
        " '__getattribute__',\n",
        " '__getitem__',\n",
        " '__hash__',\n",
        " '__init__',\n",
        " '__iter__',\n",
        " '__module__',\n",
        " '__new__',\n",
        " '__reduce__',\n",
        " '__reduce_ex__',\n",
        " '__repr__',\n",
        " '__setattr__',\n",
        " '__sizeof__',\n",
        " '__str__',\n",
        " '__subclasshook__',\n",
        " '__weakref__',\n",
        " '_build_sparse',\n",
        " '_cache',\n",
        " '_cardinalities',\n",
        " '_id_order',\n",
        " '_id_order_set',\n",
        " '_islands',\n",
        " '_n',\n",
        " '_reset',\n",
        " '_transform',\n",
        " 'asymmetries',\n",
        " 'asymmetry',\n",
        " 'cardinalities',\n",
        " 'diagW2',\n",
        " 'diagWtW',\n",
        " 'diagWtW_WW',\n",
        " 'full',\n",
        " 'get_transform',\n",
        " 'histogram',\n",
        " 'id2i',\n",
        " 'id_order',\n",
        " 'id_order_set',\n",
        " 'islands',\n",
        " 'max_neighbors',\n",
        " 'mean_neighbors',\n",
        " 'min_neighbors',\n",
        " 'n',\n",
        " 'neighbor_offsets',\n",
        " 'neighbors',\n",
        " 'nonzero',\n",
        " 'pct_nonzero',\n",
        " 's0',\n",
        " 's1',\n",
        " 's2',\n",
        " 's2array',\n",
        " 'sd',\n",
        " 'set_shapefile',\n",
        " 'set_transform',\n",
        " 'sparse',\n",
        " 'towsp',\n",
        " 'transform',\n",
        " 'transformations',\n",
        " 'trcW2',\n",
        " 'trcWtW',\n",
        " 'trcWtW_WW',\n",
        " 'weights']"
       ]
      }
     ],
     "prompt_number": 5
    },
    {
     "cell_type": "code",
     "collapsed": false,
     "input": [
      "w.n   # the number of elements"
     ],
     "language": "python",
     "metadata": {},
     "outputs": [
      {
       "output_type": "pyout",
       "prompt_number": 6,
       "text": [
        "3085"
       ]
      }
     ],
     "prompt_number": 6
    },
    {
     "cell_type": "code",
     "collapsed": false,
     "input": [
      "w.id_order[:3]    # the list of ID values in order (only first three)"
     ],
     "language": "python",
     "metadata": {},
     "outputs": [
      {
       "output_type": "pyout",
       "prompt_number": 7,
       "text": [
        "['27077', '53019', '53065']"
       ]
      }
     ],
     "prompt_number": 7
    },
    {
     "cell_type": "code",
     "collapsed": true,
     "input": [
      "w.neighbors.keys()[:3]    # three keys for the neighbors dictionary (order doesn't matter)"
     ],
     "language": "python",
     "metadata": {},
     "outputs": [
      {
       "output_type": "pyout",
       "prompt_number": 10,
       "text": [
        "['16079', '33017', '16073']"
       ]
      }
     ],
     "prompt_number": 10
    },
    {
     "cell_type": "code",
     "collapsed": false,
     "input": [
      "w.weights.keys()[:3]       # three keys for the weights dictionary"
     ],
     "language": "python",
     "metadata": {},
     "outputs": [
      {
       "output_type": "pyout",
       "prompt_number": 11,
       "text": [
        "['16079', '16073', '16071']"
       ]
      }
     ],
     "prompt_number": 11
    },
    {
     "cell_type": "code",
     "collapsed": false,
     "input": [
      "w.neighbors['16079']       # neighbors for fips code 16079"
     ],
     "language": "python",
     "metadata": {},
     "outputs": [
      {
       "output_type": "pyout",
       "prompt_number": 73,
       "text": [
        "['16057', '16009', '16055', '30061', '30089', '16035', '16017']"
       ]
      }
     ],
     "prompt_number": 73
    },
    {
     "cell_type": "code",
     "collapsed": false,
     "input": [
      "w.weights['16079']         # weights for fips code 16079"
     ],
     "language": "python",
     "metadata": {},
     "outputs": [
      {
       "output_type": "pyout",
       "prompt_number": 74,
       "text": [
        "[1.0, 1.0, 1.0, 1.0, 1.0, 1.0, 1.0]"
       ]
      }
     ],
     "prompt_number": 74
    },
    {
     "cell_type": "code",
     "collapsed": false,
     "input": [
      "w['16079']                 # both neighbors and weights"
     ],
     "language": "python",
     "metadata": {},
     "outputs": [
      {
       "output_type": "pyout",
       "prompt_number": 75,
       "text": [
        "{'16009': 1.0,\n",
        " '16017': 1.0,\n",
        " '16035': 1.0,\n",
        " '16055': 1.0,\n",
        " '16057': 1.0,\n",
        " '30061': 1.0,\n",
        " '30089': 1.0}"
       ]
      }
     ],
     "prompt_number": 75
    },
    {
     "cell_type": "markdown",
     "metadata": {},
     "source": [
      "**Writing a weights object to a file**"
     ]
    },
    {
     "cell_type": "markdown",
     "metadata": {},
     "source": [
      "the output file is **newnatqueen.gal** assumed to be in the current working directory"
     ]
    },
    {
     "cell_type": "code",
     "collapsed": false,
     "input": [
      "galwout = pysal.open(\"newnatqueen.gal\",'w')\n",
      "galwout.write(w)\n",
      "galwout.close()"
     ],
     "language": "python",
     "metadata": {},
     "outputs": [],
     "prompt_number": 12
    },
    {
     "cell_type": "markdown",
     "metadata": {},
     "source": [
      "while not absolutely necessary, it is always good practice to close the file after writing"
     ]
    },
    {
     "cell_type": "markdown",
     "metadata": {},
     "source": [
      "###Contiguity weights from a shape file###"
     ]
    },
    {
     "cell_type": "markdown",
     "metadata": {},
     "source": [
      "**Rook contiguity**"
     ]
    },
    {
     "cell_type": "markdown",
     "metadata": {},
     "source": [
      "bare bones approach, using the **NAT.shp** shape file (from the **data** directory) and **rook_from_shapefile**"
     ]
    },
    {
     "cell_type": "code",
     "collapsed": false,
     "input": [
      "wr = pysal.rook_from_shapefile(\"data/NAT.shp\")"
     ],
     "language": "python",
     "metadata": {},
     "outputs": [],
     "prompt_number": 13
    },
    {
     "cell_type": "code",
     "collapsed": false,
     "input": [
      "wr.n  # number of observations"
     ],
     "language": "python",
     "metadata": {},
     "outputs": [
      {
       "output_type": "pyout",
       "prompt_number": 15,
       "text": [
        "3085"
       ]
      }
     ],
     "prompt_number": 15
    },
    {
     "cell_type": "code",
     "collapsed": false,
     "input": [
      "wr.id_order[:3]"
     ],
     "language": "python",
     "metadata": {},
     "outputs": [
      {
       "output_type": "pyout",
       "prompt_number": 16,
       "text": [
        "[0, 1, 2]"
       ]
      }
     ],
     "prompt_number": 16
    },
    {
     "cell_type": "markdown",
     "metadata": {},
     "source": [
      "note how there is no ID variable, only sequence number\n",
      "\n",
      " using an ID variable is the preferred approach"
     ]
    },
    {
     "cell_type": "code",
     "collapsed": false,
     "input": [
      "wrid = pysal.rook_from_shapefile(\"data/NAT.shp\",idVariable=\"FIPSNO\")"
     ],
     "language": "python",
     "metadata": {},
     "outputs": [],
     "prompt_number": 17
    },
    {
     "cell_type": "code",
     "collapsed": false,
     "input": [
      "wrid.n   # number of observations"
     ],
     "language": "python",
     "metadata": {},
     "outputs": [
      {
       "output_type": "pyout",
       "prompt_number": 18,
       "text": [
        "3085"
       ]
      }
     ],
     "prompt_number": 18
    },
    {
     "cell_type": "code",
     "collapsed": false,
     "input": [
      "wrid.id_order[:3]"
     ],
     "language": "python",
     "metadata": {},
     "outputs": [
      {
       "output_type": "pyout",
       "prompt_number": 19,
       "text": [
        "[27077, 53019, 53065]"
       ]
      }
     ],
     "prompt_number": 19
    },
    {
     "cell_type": "markdown",
     "metadata": {},
     "source": [
      "note how the id is now the FIPSCODE rather than a simple sequence number"
     ]
    },
    {
     "cell_type": "markdown",
     "metadata": {},
     "source": [
      "**Queen contiguity**"
     ]
    },
    {
     "cell_type": "markdown",
     "metadata": {},
     "source": [
      "using an ID variable with the **NAT.shp** shape file and **queen_from_shapefile**"
     ]
    },
    {
     "cell_type": "code",
     "collapsed": false,
     "input": [
      "wqid = pysal.queen_from_shapefile(\"data/NAT.shp\",idVariable=\"FIPSNO\")"
     ],
     "language": "python",
     "metadata": {},
     "outputs": [],
     "prompt_number": 37
    },
    {
     "cell_type": "code",
     "collapsed": false,
     "input": [
      "wqid.n"
     ],
     "language": "python",
     "metadata": {},
     "outputs": [
      {
       "output_type": "pyout",
       "prompt_number": 38,
       "text": [
        "3085"
       ]
      }
     ],
     "prompt_number": 38
    },
    {
     "cell_type": "code",
     "collapsed": false,
     "input": [
      "wqid.id_order[:3]"
     ],
     "language": "python",
     "metadata": {},
     "outputs": [
      {
       "output_type": "pyout",
       "prompt_number": 39,
       "text": [
        "[27077, 53019, 53065]"
       ]
      }
     ],
     "prompt_number": 39
    },
    {
     "cell_type": "markdown",
     "metadata": {},
     "source": [
      "**Higher order contiguity**"
     ]
    },
    {
     "cell_type": "markdown",
     "metadata": {},
     "source": [
      "use the **higher_order** function"
     ]
    },
    {
     "cell_type": "code",
     "collapsed": false,
     "input": [
      "wr2 = pysal.higher_order(wr,2)"
     ],
     "language": "python",
     "metadata": {},
     "outputs": [],
     "prompt_number": 40
    },
    {
     "cell_type": "markdown",
     "metadata": {},
     "source": [
      "compare the neighbor structure with first order - use **neighbors** with ID = 0"
     ]
    },
    {
     "cell_type": "code",
     "collapsed": false,
     "input": [
      "wr.neighbors[0]"
     ],
     "language": "python",
     "metadata": {},
     "outputs": [
      {
       "output_type": "pyout",
       "prompt_number": 41,
       "text": [
        "[40, 30, 22]"
       ]
      }
     ],
     "prompt_number": 41
    },
    {
     "cell_type": "code",
     "collapsed": false,
     "input": [
      "wr2.neighbors[0]"
     ],
     "language": "python",
     "metadata": {},
     "outputs": [
      {
       "output_type": "pyout",
       "prompt_number": 42,
       "text": [
        "[21, 34, 37, 54, 64, 72, 96, 99]"
       ]
      }
     ],
     "prompt_number": 42
    },
    {
     "cell_type": "markdown",
     "metadata": {},
     "source": [
      "to have a cumulative second order contiguity, use **w_union**"
     ]
    },
    {
     "cell_type": "code",
     "collapsed": false,
     "input": [
      "wr12 = pysal.w_union(wr,wr2)"
     ],
     "language": "python",
     "metadata": {},
     "outputs": [],
     "prompt_number": 43
    },
    {
     "cell_type": "code",
     "collapsed": false,
     "input": [
      "wr12.neighbors[0]"
     ],
     "language": "python",
     "metadata": {},
     "outputs": [
      {
       "output_type": "pyout",
       "prompt_number": 44,
       "text": [
        "[64, 96, 34, 99, 37, 40, 72, 21, 22, 54, 30]"
       ]
      }
     ],
     "prompt_number": 44
    },
    {
     "cell_type": "markdown",
     "metadata": {},
     "source": [
      "###Weights transformations###"
     ]
    },
    {
     "cell_type": "markdown",
     "metadata": {},
     "source": [
      "**Row-standardization**"
     ]
    },
    {
     "cell_type": "markdown",
     "metadata": {},
     "source": [
      "check the current status with **transform**"
     ]
    },
    {
     "cell_type": "code",
     "collapsed": false,
     "input": [
      "wr.transform"
     ],
     "language": "python",
     "metadata": {},
     "outputs": [
      {
       "output_type": "pyout",
       "prompt_number": 45,
       "text": [
        "'B'"
       ]
      }
     ],
     "prompt_number": 45
    },
    {
     "cell_type": "markdown",
     "metadata": {},
     "source": [
      "**'O'** means the weights are in their original form, check the contents of **weights**"
     ]
    },
    {
     "cell_type": "code",
     "collapsed": false,
     "input": [
      "wr.weights[0]"
     ],
     "language": "python",
     "metadata": {},
     "outputs": [
      {
       "output_type": "pyout",
       "prompt_number": 46,
       "text": [
        "[1.0, 1.0, 1.0]"
       ]
      }
     ],
     "prompt_number": 46
    },
    {
     "cell_type": "markdown",
     "metadata": {},
     "source": [
      "unstandardized, binary weights\n",
      "\n",
      "set transform to **r** to row-standardize"
     ]
    },
    {
     "cell_type": "code",
     "collapsed": false,
     "input": [
      "wr.transform = 'r'"
     ],
     "language": "python",
     "metadata": {},
     "outputs": [],
     "prompt_number": 47
    },
    {
     "cell_type": "code",
     "collapsed": false,
     "input": [
      "wr.weights[0]"
     ],
     "language": "python",
     "metadata": {},
     "outputs": [
      {
       "output_type": "pyout",
       "prompt_number": 48,
       "text": [
        "[0.3333333333333333, 0.3333333333333333, 0.3333333333333333]"
       ]
      }
     ],
     "prompt_number": 48
    },
    {
     "cell_type": "markdown",
     "metadata": {},
     "source": [
      "now they are row-standardized\n",
      "\n",
      "back to binary using **b**"
     ]
    },
    {
     "cell_type": "code",
     "collapsed": false,
     "input": [
      "wr.transform = 'b'"
     ],
     "language": "python",
     "metadata": {},
     "outputs": [],
     "prompt_number": 49
    },
    {
     "cell_type": "code",
     "collapsed": false,
     "input": [
      "wr.weights[0]"
     ],
     "language": "python",
     "metadata": {},
     "outputs": [
      {
       "output_type": "pyout",
       "prompt_number": 50,
       "text": [
        "[1.0, 1.0, 1.0]"
       ]
      }
     ],
     "prompt_number": 50
    },
    {
     "cell_type": "markdown",
     "metadata": {},
     "source": [
      "###Distance weights from a shape file###"
     ]
    },
    {
     "cell_type": "markdown",
     "metadata": {},
     "source": [
      "**Binary distance weights**"
     ]
    },
    {
     "cell_type": "markdown",
     "metadata": {},
     "source": [
      "two step process: (1) compute distance threshold; (2) use threshold to create weights\n",
      "\n",
      "using the **baltim.shp** point file"
     ]
    },
    {
     "cell_type": "markdown",
     "metadata": {},
     "source": [
      "obtain the threshold distance using **min_threshold_dist_from_shapefile**"
     ]
    },
    {
     "cell_type": "code",
     "collapsed": false,
     "input": [
      "dist = pysal.min_threshold_dist_from_shapefile(\"data/baltim.shp\")"
     ],
     "language": "python",
     "metadata": {},
     "outputs": [],
     "prompt_number": 51
    },
    {
     "cell_type": "code",
     "collapsed": false,
     "input": [
      "dist"
     ],
     "language": "python",
     "metadata": {},
     "outputs": [
      {
       "output_type": "pyout",
       "prompt_number": 52,
       "text": [
        "21.319005605327842"
       ]
      }
     ],
     "prompt_number": 52
    },
    {
     "cell_type": "markdown",
     "metadata": {},
     "source": [
      "dist is the distance threshold that ensures that each observation has at least one neighbor"
     ]
    },
    {
     "cell_type": "markdown",
     "metadata": {},
     "source": [
      "now, we create the weights with **threshold_binaryW_from_shapefile**"
     ]
    },
    {
     "cell_type": "code",
     "collapsed": false,
     "input": [
      "wdid = pysal.threshold_binaryW_from_shapefile(\"data/baltim.shp\",dist,idVariable=\"STATION\")"
     ],
     "language": "python",
     "metadata": {},
     "outputs": [],
     "prompt_number": 72
    },
    {
     "cell_type": "code",
     "collapsed": false,
     "input": [
      "wdid.id_order[:3]"
     ],
     "language": "python",
     "metadata": {},
     "outputs": [
      {
       "output_type": "pyout",
       "prompt_number": 73,
       "text": [
        "[1, 2, 3]"
       ]
      }
     ],
     "prompt_number": 73
    },
    {
     "cell_type": "markdown",
     "metadata": {},
     "source": [
      "note how the first ID is 1 (and not 0), which is the lowest value for the ID variable STATION."
     ]
    },
    {
     "cell_type": "code",
     "collapsed": false,
     "input": [
      "len(wdid.weights[1])"
     ],
     "language": "python",
     "metadata": {},
     "outputs": [
      {
       "output_type": "pyout",
       "prompt_number": 55,
       "text": [
        "49"
       ]
      }
     ],
     "prompt_number": 55
    },
    {
     "cell_type": "markdown",
     "metadata": {},
     "source": [
      "the observation STATION=1 has 49 neighbors within the given distance band"
     ]
    },
    {
     "cell_type": "code",
     "collapsed": false,
     "input": [
      "wdid.weights[1][:5]"
     ],
     "language": "python",
     "metadata": {},
     "outputs": [
      {
       "output_type": "pyout",
       "prompt_number": 74,
       "text": [
        "[1, 1, 1, 1, 1]"
       ]
      }
     ],
     "prompt_number": 74
    },
    {
     "cell_type": "markdown",
     "metadata": {},
     "source": [
      "note how the weights are binary, use **transform** to set as row-standardized"
     ]
    },
    {
     "cell_type": "code",
     "collapsed": false,
     "input": [
      "wdid.transform = 'r'"
     ],
     "language": "python",
     "metadata": {},
     "outputs": [],
     "prompt_number": 75
    },
    {
     "cell_type": "code",
     "collapsed": false,
     "input": [
      "wdid.weights[1][:5]"
     ],
     "language": "python",
     "metadata": {},
     "outputs": [
      {
       "output_type": "pyout",
       "prompt_number": 76,
       "text": [
        "[0.02040816326530612,\n",
        " 0.02040816326530612,\n",
        " 0.02040816326530612,\n",
        " 0.02040816326530612,\n",
        " 0.02040816326530612]"
       ]
      }
     ],
     "prompt_number": 76
    },
    {
     "cell_type": "markdown",
     "metadata": {},
     "source": [
      "0.0204... = 1/49 where 49 is the number of neighbors for STATION=1"
     ]
    },
    {
     "cell_type": "markdown",
     "metadata": {},
     "source": [
      "**Binary weights from k-nearest neighbors**"
     ]
    },
    {
     "cell_type": "markdown",
     "metadata": {},
     "source": [
      "use **knnW_from_shapefile**, no need to specify a distance threshold"
     ]
    },
    {
     "cell_type": "code",
     "collapsed": false,
     "input": [
      "wk4 = pysal.knnW_from_shapefile(\"data/baltim.shp\",k=4,idVariable=\"STATION\")"
     ],
     "language": "python",
     "metadata": {},
     "outputs": [],
     "prompt_number": 84
    },
    {
     "cell_type": "code",
     "collapsed": false,
     "input": [
      "wk4.id_order[:3]"
     ],
     "language": "python",
     "metadata": {},
     "outputs": [
      {
       "output_type": "pyout",
       "prompt_number": 85,
       "text": [
        "[1, 2, 3]"
       ]
      }
     ],
     "prompt_number": 85
    },
    {
     "cell_type": "markdown",
     "metadata": {},
     "source": [
      "the k=4 nearest neighbors for STATION=1"
     ]
    },
    {
     "cell_type": "code",
     "collapsed": false,
     "input": [
      "wk4.neighbors[1]"
     ],
     "language": "python",
     "metadata": {},
     "outputs": [
      {
       "output_type": "pyout",
       "prompt_number": 86,
       "text": [
        "[96, 16, 90, 133]"
       ]
      }
     ],
     "prompt_number": 86
    },
    {
     "cell_type": "markdown",
     "metadata": {},
     "source": [
      "the associated weights"
     ]
    },
    {
     "cell_type": "code",
     "collapsed": false,
     "input": [
      "wk4.weights[1]"
     ],
     "language": "python",
     "metadata": {},
     "outputs": [
      {
       "output_type": "pyout",
       "prompt_number": 87,
       "text": [
        "[1.0, 1.0, 1.0, 1.0]"
       ]
      }
     ],
     "prompt_number": 87
    },
    {
     "cell_type": "markdown",
     "metadata": {},
     "source": [
      "row-standardizing the weights"
     ]
    },
    {
     "cell_type": "code",
     "collapsed": false,
     "input": [
      "wk4.transform = 'r'"
     ],
     "language": "python",
     "metadata": {},
     "outputs": [],
     "prompt_number": 88
    },
    {
     "cell_type": "code",
     "collapsed": false,
     "input": [
      "wk4.weights[1]"
     ],
     "language": "python",
     "metadata": {},
     "outputs": [
      {
       "output_type": "pyout",
       "prompt_number": 89,
       "text": [
        "[0.25, 0.25, 0.25, 0.25]"
       ]
      }
     ],
     "prompt_number": 89
    },
    {
     "cell_type": "markdown",
     "metadata": {},
     "source": [
      "**Inverse distance weights**"
     ]
    },
    {
     "cell_type": "markdown",
     "metadata": {},
     "source": [
      "here again, we need to specify a threshold distance, we re-use **dist** with\n",
      "the **threshold_continuousW_from_shapefile** function"
     ]
    },
    {
     "cell_type": "code",
     "collapsed": false,
     "input": [
      "wdinv = pysal.threshold_continuousW_from_shapefile(\"data/baltim.shp\",dist,idVariable=\"STATION\")"
     ],
     "language": "python",
     "metadata": {},
     "outputs": [],
     "prompt_number": 90
    },
    {
     "cell_type": "code",
     "collapsed": false,
     "input": [
      "wdinv.weights[1][:3]"
     ],
     "language": "python",
     "metadata": {},
     "outputs": [
      {
       "output_type": "pyout",
       "prompt_number": 91,
       "text": [
        "[0.05101443274928473, 0.05128205128205128, 0.058798103203785472]"
       ]
      }
     ],
     "prompt_number": 91
    },
    {
     "cell_type": "markdown",
     "metadata": {},
     "source": [
      "note that these are the actual values for the inverse distance, not row-standardized weights. in order\n",
      "to convert them to row-standardized form, we need to apply **transform**"
     ]
    },
    {
     "cell_type": "code",
     "collapsed": false,
     "input": [
      "wdinv.transform = 'r'"
     ],
     "language": "python",
     "metadata": {},
     "outputs": [],
     "prompt_number": 92
    },
    {
     "cell_type": "code",
     "collapsed": false,
     "input": [
      "wdinv.weights[1][:3]"
     ],
     "language": "python",
     "metadata": {},
     "outputs": [
      {
       "output_type": "pyout",
       "prompt_number": 93,
       "text": [
        "[0.01295275193384841, 0.013020701262715038, 0.014929054464300182]"
       ]
      }
     ],
     "prompt_number": 93
    },
    {
     "cell_type": "markdown",
     "metadata": {},
     "source": [
      "specify a different distance decay power with **alpha**\n",
      "\n",
      "for example, gravity weights **alpha = -2**"
     ]
    },
    {
     "cell_type": "code",
     "collapsed": false,
     "input": [
      "wdinv2 = pysal.threshold_continuousW_from_shapefile(\"data/baltim.shp\",dist,alpha=-2,idVariable=\"STATION\")"
     ],
     "language": "python",
     "metadata": {},
     "outputs": [],
     "prompt_number": 94
    },
    {
     "cell_type": "code",
     "collapsed": false,
     "input": [
      "wdinv2.weights[1][:3]"
     ],
     "language": "python",
     "metadata": {},
     "outputs": [
      {
       "output_type": "pyout",
       "prompt_number": 95,
       "text": [
        "[0.0026024723487312945, 0.0026298487836949377, 0.003457216940363007]"
       ]
      }
     ],
     "prompt_number": 95
    },
    {
     "cell_type": "markdown",
     "metadata": {},
     "source": [
      "again, applying row-standardization"
     ]
    },
    {
     "cell_type": "code",
     "collapsed": false,
     "input": [
      "wdinv2.transform = 'r'"
     ],
     "language": "python",
     "metadata": {},
     "outputs": [],
     "prompt_number": 96
    },
    {
     "cell_type": "code",
     "collapsed": false,
     "input": [
      "wdinv2.weights[1][:3]"
     ],
     "language": "python",
     "metadata": {},
     "outputs": [
      {
       "output_type": "pyout",
       "prompt_number": 97,
       "text": [
        "[0.0069679196020254611, 0.0070412179015865448, 0.0092564325223104]"
       ]
      }
     ],
     "prompt_number": 97
    },
    {
     "cell_type": "markdown",
     "metadata": {},
     "source": [
      "**Arc distance**"
     ]
    },
    {
     "cell_type": "markdown",
     "metadata": {},
     "source": [
      "to use great circle distance for unprojected data, specify **radius**"
     ]
    },
    {
     "cell_type": "markdown",
     "metadata": {},
     "source": [
      "distances can be computed directly for polygon shape files as well\n",
      "\n",
      "for example, using **NAT.shp** with **radius**"
     ]
    },
    {
     "cell_type": "code",
     "collapsed": false,
     "input": [
      "dist2 = pysal.min_threshold_dist_from_shapefile(\"data/NAT.shp\",radius=pysal.cg.RADIUS_EARTH_MILES)"
     ],
     "language": "python",
     "metadata": {},
     "outputs": [],
     "prompt_number": 64
    },
    {
     "cell_type": "code",
     "collapsed": false,
     "input": [
      "dist2"
     ],
     "language": "python",
     "metadata": {},
     "outputs": [
      {
       "output_type": "pyout",
       "prompt_number": 65,
       "text": [
        "90.865247381472884"
       ]
      }
     ],
     "prompt_number": 65
    },
    {
     "cell_type": "markdown",
     "metadata": {},
     "source": [
      "threshold distance in miles"
     ]
    },
    {
     "cell_type": "markdown",
     "metadata": {},
     "source": [
      "###Kernel weights###"
     ]
    },
    {
     "cell_type": "markdown",
     "metadata": {},
     "source": [
      "using the **baltim.shp** point file, create an adaptive kernel weights object, using **k=6** with **adaptive_kernelW_from_shapefile**"
     ]
    },
    {
     "cell_type": "markdown",
     "metadata": {},
     "source": [
      "default is **triangular** does not need to be specified"
     ]
    },
    {
     "cell_type": "code",
     "collapsed": false,
     "input": [
      "kw1 = pysal.adaptive_kernelW_from_shapefile(\"data/baltim.shp\",k=6,idVariable=\"STATION\")"
     ],
     "language": "python",
     "metadata": {},
     "outputs": [],
     "prompt_number": 98
    },
    {
     "cell_type": "code",
     "collapsed": false,
     "input": [
      "kw1.weights[1]"
     ],
     "language": "python",
     "metadata": {},
     "outputs": [
      {
       "output_type": "pyout",
       "prompt_number": 99,
       "text": [
        "[1.0,\n",
        " 0.29289328952412363,\n",
        " 0.12294206839876398,\n",
        " 0.0880073449393135,\n",
        " 0.056907799290817906,\n",
        " 0.007237830111578081,\n",
        " 9.99999900663795e-08]"
       ]
      }
     ],
     "prompt_number": 99
    },
    {
     "cell_type": "markdown",
     "metadata": {},
     "source": [
      "note how the diagonal element is 1.0 -- kernel weights should not be row-standardized"
     ]
    },
    {
     "cell_type": "markdown",
     "metadata": {},
     "source": [
      "to use a **gaussian** kernel, specify **function='gaussian'**"
     ]
    },
    {
     "cell_type": "code",
     "collapsed": false,
     "input": [
      "kw2 = pysal.adaptive_kernelW_from_shapefile(\"data/baltim.shp\",k=6,function='gaussian',idVariable=\"STATION\")"
     ],
     "language": "python",
     "metadata": {},
     "outputs": [],
     "prompt_number": 100
    },
    {
     "cell_type": "code",
     "collapsed": false,
     "input": [
      "kw2.weights[1]"
     ],
     "language": "python",
     "metadata": {},
     "outputs": [
      {
       "output_type": "pyout",
       "prompt_number": 101,
       "text": [
        "[0.3989422804014327,\n",
        " 0.31069657591175387,\n",
        " 0.2715649773742695,\n",
        " 0.26320980303601943,\n",
        " 0.255725677138998,\n",
        " 0.2437220368780333,\n",
        " 0.2419707487162134]"
       ]
      }
     ],
     "prompt_number": 101
    },
    {
     "cell_type": "markdown",
     "metadata": {},
     "source": [
      "note that the diagonal is not set to 1.0, which must be done in order for this to work in a HAC setting"
     ]
    },
    {
     "cell_type": "markdown",
     "metadata": {},
     "source": [
      "using a **quadratic** kernel (same as epanechnikov but that term is not yet supported) with **function='quadratic'**"
     ]
    },
    {
     "cell_type": "code",
     "collapsed": false,
     "input": [
      "kw3 = pysal.adaptive_kernelW_from_shapefile(\"data/baltim.shp\",k=6,function='quadratic',idVariable=\"STATION\")"
     ],
     "language": "python",
     "metadata": {},
     "outputs": [],
     "prompt_number": 102
    },
    {
     "cell_type": "code",
     "collapsed": false,
     "input": [
      "kw3.weights[1]"
     ],
     "language": "python",
     "metadata": {},
     "outputs": [
      {
       "output_type": "pyout",
       "prompt_number": 103,
       "text": [
        "[0.75,\n",
        " 0.3750000749999889,\n",
        " 0.17307703846152117,\n",
        " 0.12620204783651978,\n",
        " 0.08293282572113381,\n",
        " 0.0108174555288241,\n",
        " 1.4999997760556383e-07]"
       ]
      }
     ],
     "prompt_number": 103
    },
    {
     "cell_type": "markdown",
     "metadata": {},
     "source": [
      "same issue with the lack of 1.0 on the diagonal"
     ]
    },
    {
     "cell_type": "markdown",
     "metadata": {},
     "source": [
      "###Special Weights###"
     ]
    },
    {
     "cell_type": "markdown",
     "metadata": {},
     "source": [
      "These are some weights functions that come in handy in a simulation environment:\n",
      "\n",
      "* creating weights for a regular lattice (i.e., without having to create a shape file first)\n",
      "\n",
      "* turning a pysal weights object into a full **numpy array**"
     ]
    },
    {
     "cell_type": "markdown",
     "metadata": {},
     "source": [
      "use **lat2W** for a regular lattice"
     ]
    },
    {
     "cell_type": "markdown",
     "metadata": {},
     "source": [
      "rook contiguity (the default)"
     ]
    },
    {
     "cell_type": "code",
     "collapsed": false,
     "input": [
      "w55r = pysal.lat2W(5,5)"
     ],
     "language": "python",
     "metadata": {},
     "outputs": [],
     "prompt_number": 104
    },
    {
     "cell_type": "code",
     "collapsed": false,
     "input": [
      "w55r.n"
     ],
     "language": "python",
     "metadata": {},
     "outputs": [
      {
       "output_type": "pyout",
       "prompt_number": 105,
       "text": [
        "25"
       ]
      }
     ],
     "prompt_number": 105
    },
    {
     "cell_type": "code",
     "collapsed": false,
     "input": [
      "w55r[6]"
     ],
     "language": "python",
     "metadata": {},
     "outputs": [
      {
       "output_type": "pyout",
       "prompt_number": 106,
       "text": [
        "{1: 1.0, 5: 1.0, 7: 1.0, 11: 1.0}"
       ]
      }
     ],
     "prompt_number": 106
    },
    {
     "cell_type": "markdown",
     "metadata": {},
     "source": [
      "queen contiguity, set **rook = False**"
     ]
    },
    {
     "cell_type": "code",
     "collapsed": false,
     "input": [
      "w55q = pysal.lat2W(5,5,rook=False)"
     ],
     "language": "python",
     "metadata": {},
     "outputs": [],
     "prompt_number": 107
    },
    {
     "cell_type": "code",
     "collapsed": false,
     "input": [
      "w55q[6]"
     ],
     "language": "python",
     "metadata": {},
     "outputs": [
      {
       "output_type": "pyout",
       "prompt_number": 108,
       "text": [
        "{0: 1.0, 1: 1.0, 2: 1.0, 5: 1.0, 7: 1.0, 10: 1.0, 11: 1.0, 12: 1.0}"
       ]
      }
     ],
     "prompt_number": 108
    },
    {
     "cell_type": "markdown",
     "metadata": {},
     "source": [
      "turn weights object into full weights using **full**\n",
      "\n",
      "this returns a tuple, consisting of an array and the list of id values"
     ]
    },
    {
     "cell_type": "code",
     "collapsed": false,
     "input": [
      "wbig,ids = pysal.full(w55r)"
     ],
     "language": "python",
     "metadata": {},
     "outputs": [],
     "prompt_number": 109
    },
    {
     "cell_type": "code",
     "collapsed": false,
     "input": [
      "wbig.shape"
     ],
     "language": "python",
     "metadata": {},
     "outputs": [
      {
       "output_type": "pyout",
       "prompt_number": 110,
       "text": [
        "(25, 25)"
       ]
      }
     ],
     "prompt_number": 110
    },
    {
     "cell_type": "code",
     "collapsed": false,
     "input": [
      "wbig[0,:]"
     ],
     "language": "python",
     "metadata": {},
     "outputs": [
      {
       "output_type": "pyout",
       "prompt_number": 111,
       "text": [
        "array([ 0.,  1.,  0.,  0.,  0.,  1.,  0.,  0.,  0.,  0.,  0.,  0.,  0.,\n",
        "        0.,  0.,  0.,  0.,  0.,  0.,  0.,  0.,  0.,  0.,  0.,  0.])"
       ]
      }
     ],
     "prompt_number": 111
    },
    {
     "cell_type": "code",
     "collapsed": false,
     "input": [
      "ids[:3]"
     ],
     "language": "python",
     "metadata": {},
     "outputs": [
      {
       "output_type": "pyout",
       "prompt_number": 131,
       "text": [
        "[0, 1, 2]"
       ]
      }
     ],
     "prompt_number": 131
    },
    {
     "cell_type": "markdown",
     "metadata": {},
     "source": [
      "in practice, one often does not need the id values, so take only first item of the tuple"
     ]
    },
    {
     "cell_type": "code",
     "collapsed": false,
     "input": [
      "wbig2 = pysal.full(w55r)[0]"
     ],
     "language": "python",
     "metadata": {},
     "outputs": [],
     "prompt_number": 112
    },
    {
     "cell_type": "code",
     "collapsed": false,
     "input": [
      "wbig[0,:]"
     ],
     "language": "python",
     "metadata": {},
     "outputs": [
      {
       "output_type": "pyout",
       "prompt_number": 113,
       "text": [
        "array([ 0.,  1.,  0.,  0.,  0.,  1.,  0.,  0.,  0.,  0.,  0.,  0.,  0.,\n",
        "        0.,  0.,  0.,  0.,  0.,  0.,  0.,  0.,  0.,  0.,  0.,  0.])"
       ]
      }
     ],
     "prompt_number": 113
    },
    {
     "cell_type": "markdown",
     "metadata": {},
     "source": [
      "###Weights characteristics###"
     ]
    },
    {
     "cell_type": "markdown",
     "metadata": {},
     "source": [
      "a spatial weights object has many attributes and methods, see them all using **dir**\n",
      "\n",
      "a sampling using **wqid** created above"
     ]
    },
    {
     "cell_type": "code",
     "collapsed": false,
     "input": [
      "wqid.n      # number of observations"
     ],
     "language": "python",
     "metadata": {},
     "outputs": [
      {
       "output_type": "pyout",
       "prompt_number": 114,
       "text": [
        "3085"
       ]
      }
     ],
     "prompt_number": 114
    },
    {
     "cell_type": "code",
     "collapsed": false,
     "input": [
      "wqid.mean_neighbors   # average number of neighbors"
     ],
     "language": "python",
     "metadata": {},
     "outputs": [
      {
       "output_type": "pyout",
       "prompt_number": 115,
       "text": [
        "5.8891410048622364"
       ]
      }
     ],
     "prompt_number": 115
    },
    {
     "cell_type": "code",
     "collapsed": false,
     "input": [
      "wqid.min_neighbors, wqid.max_neighbors   # min and max neighbors as a tuple"
     ],
     "language": "python",
     "metadata": {},
     "outputs": [
      {
       "output_type": "pyout",
       "prompt_number": 116,
       "text": [
        "(1, 14)"
       ]
      }
     ],
     "prompt_number": 116
    },
    {
     "cell_type": "code",
     "collapsed": false,
     "input": [
      "wqid.islands        # isolates"
     ],
     "language": "python",
     "metadata": {},
     "outputs": [
      {
       "output_type": "pyout",
       "prompt_number": 117,
       "text": [
        "[]"
       ]
      }
     ],
     "prompt_number": 117
    },
    {
     "cell_type": "code",
     "collapsed": false,
     "input": [
      "wqid.cardinalities[16079]   # number of neighbors for a given observation"
     ],
     "language": "python",
     "metadata": {},
     "outputs": [
      {
       "output_type": "pyout",
       "prompt_number": 118,
       "text": [
        "7"
       ]
      }
     ],
     "prompt_number": 118
    },
    {
     "cell_type": "code",
     "collapsed": false,
     "input": [
      "wqid.histogram    # connectivity histogram (number of neighbors, number of observations with that many neighbors)"
     ],
     "language": "python",
     "metadata": {},
     "outputs": [
      {
       "output_type": "pyout",
       "prompt_number": 119,
       "text": [
        "[(1, 24),\n",
        " (2, 36),\n",
        " (3, 91),\n",
        " (4, 281),\n",
        " (5, 620),\n",
        " (6, 1037),\n",
        " (7, 704),\n",
        " (8, 227),\n",
        " (9, 50),\n",
        " (10, 11),\n",
        " (11, 2),\n",
        " (12, 0),\n",
        " (13, 1),\n",
        " (14, 1)]"
       ]
      }
     ],
     "prompt_number": 119
    },
    {
     "cell_type": "markdown",
     "metadata": {},
     "source": [
      "###Spatially lagged variables###"
     ]
    },
    {
     "cell_type": "markdown",
     "metadata": {},
     "source": [
      "uses the **lag_spatial** function"
     ]
    },
    {
     "cell_type": "markdown",
     "metadata": {},
     "source": [
      "first create an array with the observations for the variable, e.g., using **HR90** from the **NAT.shp** file"
     ]
    },
    {
     "cell_type": "code",
     "collapsed": false,
     "input": [
      "db = pysal.open('data/nat.dbf','r')\n",
      "y = np.array(db.by_col(\"HR90\"))"
     ],
     "language": "python",
     "metadata": {},
     "outputs": [],
     "prompt_number": 120
    },
    {
     "cell_type": "code",
     "collapsed": false,
     "input": [
      "wy = pysal.lag_spatial(wqid,y)"
     ],
     "language": "python",
     "metadata": {},
     "outputs": [],
     "prompt_number": 121
    },
    {
     "cell_type": "code",
     "collapsed": false,
     "input": [
      "wy[:3]"
     ],
     "language": "python",
     "metadata": {},
     "outputs": [
      {
       "output_type": "pyout",
       "prompt_number": 122,
       "text": [
        "array([ 12.98848064,  13.4589549 ,  27.69908219])"
       ]
      }
     ],
     "prompt_number": 122
    },
    {
     "cell_type": "markdown",
     "metadata": {},
     "source": [
      "spatial weights object is not row-standardized, hence spatial lags are the sum of the neighboring values"
     ]
    },
    {
     "cell_type": "code",
     "collapsed": false,
     "input": [
      "wqid.transform = 'r'"
     ],
     "language": "python",
     "metadata": {},
     "outputs": [],
     "prompt_number": 123
    },
    {
     "cell_type": "code",
     "collapsed": false,
     "input": [
      "wy2 = pysal.lag_spatial(wqid,y)"
     ],
     "language": "python",
     "metadata": {},
     "outputs": [],
     "prompt_number": 124
    },
    {
     "cell_type": "code",
     "collapsed": false,
     "input": [
      "wy2[:3]"
     ],
     "language": "python",
     "metadata": {},
     "outputs": [
      {
       "output_type": "pyout",
       "prompt_number": 125,
       "text": [
        "array([ 4.32949355,  4.4863183 ,  6.92477055])"
       ]
      }
     ],
     "prompt_number": 125
    },
    {
     "cell_type": "markdown",
     "metadata": {},
     "source": [
      "for row-standardized weights, the results are the average of the neighboring values"
     ]
    }
   ],
   "metadata": {}
  }
 ]
}