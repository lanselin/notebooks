{
 "metadata": {
  "name": "6_BasicSimulation"
 },
 "nbformat": 3,
 "nbformat_minor": 0,
 "worksheets": [
  {
   "cells": [
    {
     "cell_type": "markdown",
     "metadata": {},
     "source": [
      "##Basic Simulation Experiments##"
     ]
    },
    {
     "cell_type": "markdown",
     "metadata": {},
     "source": [
      "*by Luc Anselin* --  <a href=\"mailto:luc.anselin@asu.edu\">luc.anselin@asu.edu</a>\n",
      "\n",
      "Lab Exercise Notes Accompanying Spring 2013 *Spatial Regression* Course\n",
      "\n",
      "(updated 7/4/2013)"
     ]
    },
    {
     "cell_type": "markdown",
     "metadata": {},
     "source": [
      "**Objectives**\n",
      "\n",
      "* random number generation - basics\n",
      "\n",
      "* random draws from a univariate distribution\n",
      "\n",
      "* random sampling\n",
      "\n",
      "* bootstrap\n",
      "\n",
      "* permutation analysis\n",
      "\n",
      "* multivariate normal random variates"
     ]
    },
    {
     "cell_type": "markdown",
     "metadata": {},
     "source": [
      "**Preliminaries**"
     ]
    },
    {
     "cell_type": "markdown",
     "metadata": {},
     "source": [
      "Import **numpy** and the module **random**\n",
      "\n",
      "Note: there are other modules such as **scipy.stats** that contain simulation\n",
      "functionality, but for now, we will stick to the **random** module"
     ]
    },
    {
     "cell_type": "code",
     "collapsed": false,
     "input": [
      "import numpy as np\n",
      "import random as rnd"
     ],
     "language": "python",
     "metadata": {},
     "outputs": [],
     "prompt_number": 1
    },
    {
     "cell_type": "markdown",
     "metadata": {},
     "source": [
      "###Random Number Generators - Basics###"
     ]
    },
    {
     "cell_type": "markdown",
     "metadata": {},
     "source": [
      "**A random float between 0 and 1**\n",
      "\n",
      "Use the function **random( )** and remember the rnd prefix"
     ]
    },
    {
     "cell_type": "code",
     "collapsed": false,
     "input": [
      "rnd.random()"
     ],
     "language": "python",
     "metadata": {},
     "outputs": [
      {
       "output_type": "pyout",
       "prompt_number": 2,
       "text": [
        "0.688986259193787"
       ]
      }
     ],
     "prompt_number": 2
    },
    {
     "cell_type": "code",
     "collapsed": false,
     "input": [
      "rnd.random()"
     ],
     "language": "python",
     "metadata": {},
     "outputs": [
      {
       "output_type": "pyout",
       "prompt_number": 3,
       "text": [
        "0.98631935079436"
       ]
      }
     ],
     "prompt_number": 3
    },
    {
     "cell_type": "markdown",
     "metadata": {},
     "source": [
      "**Random Seed**"
     ]
    },
    {
     "cell_type": "markdown",
     "metadata": {},
     "source": [
      "Your result may differ because of a different **seed**\n",
      "\n",
      "The default is the current system time (from your clock)\n",
      "\n",
      "Set the seed (= starting value) using the **seed** function"
     ]
    },
    {
     "cell_type": "code",
     "collapsed": false,
     "input": [
      "rnd.seed(1234567)"
     ],
     "language": "python",
     "metadata": {},
     "outputs": [],
     "prompt_number": 4
    },
    {
     "cell_type": "code",
     "collapsed": false,
     "input": [
      "rnd.random()"
     ],
     "language": "python",
     "metadata": {},
     "outputs": [
      {
       "output_type": "pyout",
       "prompt_number": 5,
       "text": [
        "0.9631432476096223"
       ]
      }
     ],
     "prompt_number": 5
    },
    {
     "cell_type": "code",
     "collapsed": false,
     "input": [
      "rnd.random()"
     ],
     "language": "python",
     "metadata": {},
     "outputs": [
      {
       "output_type": "pyout",
       "prompt_number": 6,
       "text": [
        "0.23573288372003576"
       ]
      }
     ],
     "prompt_number": 6
    },
    {
     "cell_type": "markdown",
     "metadata": {},
     "source": [
      "This makes the results of a simulation experiment replicable."
     ]
    },
    {
     "cell_type": "code",
     "collapsed": false,
     "input": [
      "rnd.seed(1234567)"
     ],
     "language": "python",
     "metadata": {},
     "outputs": [],
     "prompt_number": 7
    },
    {
     "cell_type": "code",
     "collapsed": false,
     "input": [
      "rnd.random()"
     ],
     "language": "python",
     "metadata": {},
     "outputs": [
      {
       "output_type": "pyout",
       "prompt_number": 8,
       "text": [
        "0.9631432476096223"
       ]
      }
     ],
     "prompt_number": 8
    },
    {
     "cell_type": "markdown",
     "metadata": {},
     "source": [
      "Same value as before because same seed was used."
     ]
    },
    {
     "cell_type": "markdown",
     "metadata": {},
     "source": [
      "###Random draws from a univariate distribution###"
     ]
    },
    {
     "cell_type": "markdown",
     "metadata": {},
     "source": [
      "####Standard Functions####"
     ]
    },
    {
     "cell_type": "markdown",
     "metadata": {},
     "source": [
      "* uniform distribution: **uniform(start,end)**"
     ]
    },
    {
     "cell_type": "code",
     "collapsed": false,
     "input": [
      "rnd.uniform(0,10)"
     ],
     "language": "python",
     "metadata": {},
     "outputs": [
      {
       "output_type": "pyout",
       "prompt_number": 9,
       "text": [
        "2.357328837200358"
       ]
      }
     ],
     "prompt_number": 9
    },
    {
     "cell_type": "code",
     "collapsed": false,
     "input": [
      "v = np.zeros(10)\n",
      "for i in range(10):\n",
      "    v[i] = rnd.uniform(0,10)"
     ],
     "language": "python",
     "metadata": {},
     "outputs": [],
     "prompt_number": 10
    },
    {
     "cell_type": "code",
     "collapsed": false,
     "input": [
      "v"
     ],
     "language": "python",
     "metadata": {},
     "outputs": [
      {
       "output_type": "pyout",
       "prompt_number": 11,
       "text": [
        "array([ 5.81483121,  2.26719849,  9.66591042,  6.11509554,  0.7410679 ,\n",
        "        5.34238174,  6.04268849,  7.85070761,  8.26390514,  1.75150729])"
       ]
      }
     ],
     "prompt_number": 11
    },
    {
     "cell_type": "code",
     "collapsed": false,
     "input": [
      "v.mean()"
     ],
     "language": "python",
     "metadata": {},
     "outputs": [
      {
       "output_type": "pyout",
       "prompt_number": 12,
       "text": [
        "5.3855293844043892"
       ]
      }
     ],
     "prompt_number": 12
    },
    {
     "cell_type": "markdown",
     "metadata": {},
     "source": [
      "law of large numbers at work: compare mean for 10 draws vs 1000 draws"
     ]
    },
    {
     "cell_type": "code",
     "collapsed": false,
     "input": [
      "vv = np.zeros(1000)\n",
      "for i in range(1000):\n",
      "    vv[i] = rnd.uniform(0,10)"
     ],
     "language": "python",
     "metadata": {},
     "outputs": [],
     "prompt_number": 13
    },
    {
     "cell_type": "code",
     "collapsed": false,
     "input": [
      "vv.mean()"
     ],
     "language": "python",
     "metadata": {},
     "outputs": [
      {
       "output_type": "pyout",
       "prompt_number": 14,
       "text": [
        "5.0008224284888287"
       ]
      }
     ],
     "prompt_number": 14
    },
    {
     "cell_type": "markdown",
     "metadata": {},
     "source": [
      "alternative to an explicit loop: use list comprehension to create\n",
      "a list of random numbers (inside the [ ] brackets)"
     ]
    },
    {
     "cell_type": "code",
     "collapsed": false,
     "input": [
      "u = np.array([rnd.uniform(0,10) for i in range(10)])"
     ],
     "language": "python",
     "metadata": {},
     "outputs": [],
     "prompt_number": 15
    },
    {
     "cell_type": "code",
     "collapsed": false,
     "input": [
      "u"
     ],
     "language": "python",
     "metadata": {},
     "outputs": [
      {
       "output_type": "pyout",
       "prompt_number": 16,
       "text": [
        "array([ 6.04724439,  1.78532054,  4.21879647,  2.58078588,  0.77149077,\n",
        "        8.31917204,  7.03347362,  7.17901019,  9.04177953,  7.8436897 ])"
       ]
      }
     ],
     "prompt_number": 16
    },
    {
     "cell_type": "markdown",
     "metadata": {},
     "source": [
      "* normal (gaussian) distribution with mean mu and standard deviation sigma: **gauss(mu, sigma)**"
     ]
    },
    {
     "cell_type": "code",
     "collapsed": false,
     "input": [
      "z = np.array([rnd.gauss(0,1) for i in range(10)])"
     ],
     "language": "python",
     "metadata": {},
     "outputs": [],
     "prompt_number": 17
    },
    {
     "cell_type": "code",
     "collapsed": false,
     "input": [
      "z"
     ],
     "language": "python",
     "metadata": {},
     "outputs": [
      {
       "output_type": "pyout",
       "prompt_number": 18,
       "text": [
        "array([ 0.32825362, -0.76020572, -1.00709642, -0.1855204 , -2.12004212,\n",
        "        0.07339824, -1.81967231,  0.70948579, -0.76083051,  0.3199458 ])"
       ]
      }
     ],
     "prompt_number": 18
    },
    {
     "cell_type": "code",
     "collapsed": false,
     "input": [
      "z.mean()"
     ],
     "language": "python",
     "metadata": {},
     "outputs": [
      {
       "output_type": "pyout",
       "prompt_number": 19,
       "text": [
        "-0.52222840265001236"
       ]
      }
     ],
     "prompt_number": 19
    },
    {
     "cell_type": "code",
     "collapsed": false,
     "input": [
      "zz = np.array([rnd.gauss(0,1) for i in range(10000)])"
     ],
     "language": "python",
     "metadata": {},
     "outputs": [],
     "prompt_number": 20
    },
    {
     "cell_type": "code",
     "collapsed": false,
     "input": [
      "zz.mean()"
     ],
     "language": "python",
     "metadata": {},
     "outputs": [
      {
       "output_type": "pyout",
       "prompt_number": 21,
       "text": [
        "0.0029447514309585321"
       ]
      }
     ],
     "prompt_number": 21
    },
    {
     "cell_type": "code",
     "collapsed": false,
     "input": [
      "zz.std(ddof=1)"
     ],
     "language": "python",
     "metadata": {},
     "outputs": [
      {
       "output_type": "pyout",
       "prompt_number": 22,
       "text": [
        "0.99421336401190885"
       ]
      }
     ],
     "prompt_number": 22
    },
    {
     "cell_type": "markdown",
     "metadata": {},
     "source": [
      "* chi-square variates as the squares of a standard normal"
     ]
    },
    {
     "cell_type": "code",
     "collapsed": false,
     "input": [
      "z2 = z**2"
     ],
     "language": "python",
     "metadata": {},
     "outputs": [],
     "prompt_number": 23
    },
    {
     "cell_type": "code",
     "collapsed": false,
     "input": [
      "z2"
     ],
     "language": "python",
     "metadata": {},
     "outputs": [
      {
       "output_type": "pyout",
       "prompt_number": 24,
       "text": [
        "array([ 0.10775044,  0.57791274,  1.0142432 ,  0.03441782,  4.4945786 ,\n",
        "        0.0053873 ,  3.3112073 ,  0.50337009,  0.57886306,  0.10236531])"
       ]
      }
     ],
     "prompt_number": 24
    },
    {
     "cell_type": "code",
     "collapsed": false,
     "input": [
      "z2.mean()"
     ],
     "language": "python",
     "metadata": {},
     "outputs": [
      {
       "output_type": "pyout",
       "prompt_number": 25,
       "text": [
        "1.0730095865544236"
       ]
      }
     ],
     "prompt_number": 25
    },
    {
     "cell_type": "markdown",
     "metadata": {},
     "source": [
      "###Random Sampling###"
     ]
    },
    {
     "cell_type": "markdown",
     "metadata": {},
     "source": [
      "* select a random element from a sequence"
     ]
    },
    {
     "cell_type": "markdown",
     "metadata": {},
     "source": [
      "hard way: select a random integer from a range using **randrange**, then use as index to select element\n",
      "\n",
      "first: set up a list with unique elements to sample from - we are purposely adding 1 to have one more\n",
      "than the index"
     ]
    },
    {
     "cell_type": "code",
     "collapsed": false,
     "input": [
      "s = np.arange(20) + 1"
     ],
     "language": "python",
     "metadata": {},
     "outputs": [],
     "prompt_number": 26
    },
    {
     "cell_type": "code",
     "collapsed": false,
     "input": [
      "s"
     ],
     "language": "python",
     "metadata": {},
     "outputs": [
      {
       "output_type": "pyout",
       "prompt_number": 27,
       "text": [
        "array([ 1,  2,  3,  4,  5,  6,  7,  8,  9, 10, 11, 12, 13, 14, 15, 16, 17,\n",
        "       18, 19, 20])"
       ]
      }
     ],
     "prompt_number": 27
    },
    {
     "cell_type": "code",
     "collapsed": false,
     "input": [
      "i = rnd.randrange(19)"
     ],
     "language": "python",
     "metadata": {},
     "outputs": [],
     "prompt_number": 28
    },
    {
     "cell_type": "code",
     "collapsed": false,
     "input": [
      "i"
     ],
     "language": "python",
     "metadata": {},
     "outputs": [
      {
       "output_type": "pyout",
       "prompt_number": 29,
       "text": [
        "18"
       ]
      }
     ],
     "prompt_number": 29
    },
    {
     "cell_type": "code",
     "collapsed": false,
     "input": [
      "s[i]"
     ],
     "language": "python",
     "metadata": {},
     "outputs": [
      {
       "output_type": "pyout",
       "prompt_number": 30,
       "text": [
        "19"
       ]
      }
     ],
     "prompt_number": 30
    },
    {
     "cell_type": "markdown",
     "metadata": {},
     "source": [
      "direct way: use function **choice**"
     ]
    },
    {
     "cell_type": "code",
     "collapsed": false,
     "input": [
      "schosen = rnd.choice(s)"
     ],
     "language": "python",
     "metadata": {},
     "outputs": [],
     "prompt_number": 31
    },
    {
     "cell_type": "code",
     "collapsed": false,
     "input": [
      "schosen"
     ],
     "language": "python",
     "metadata": {},
     "outputs": [
      {
       "output_type": "pyout",
       "prompt_number": 32,
       "text": [
        "14"
       ]
      }
     ],
     "prompt_number": 32
    },
    {
     "cell_type": "markdown",
     "metadata": {},
     "source": [
      "* sampling without replacement: **sample**"
     ]
    },
    {
     "cell_type": "code",
     "collapsed": false,
     "input": [
      "zs = rnd.sample(s,5)"
     ],
     "language": "python",
     "metadata": {},
     "outputs": [],
     "prompt_number": 33
    },
    {
     "cell_type": "code",
     "collapsed": false,
     "input": [
      "zs"
     ],
     "language": "python",
     "metadata": {},
     "outputs": [
      {
       "output_type": "pyout",
       "prompt_number": 34,
       "text": [
        "[14, 16, 18, 17, 19]"
       ]
      }
     ],
     "prompt_number": 34
    },
    {
     "cell_type": "markdown",
     "metadata": {},
     "source": [
      "note how zs is **not** an array, but a **list** of sampled values from s\n",
      "\n",
      "new sample will be different"
     ]
    },
    {
     "cell_type": "code",
     "collapsed": false,
     "input": [
      "zs2 = rnd.sample(s,5)"
     ],
     "language": "python",
     "metadata": {},
     "outputs": [],
     "prompt_number": 35
    },
    {
     "cell_type": "code",
     "collapsed": false,
     "input": [
      "zs2"
     ],
     "language": "python",
     "metadata": {},
     "outputs": [
      {
       "output_type": "pyout",
       "prompt_number": 36,
       "text": [
        "[4, 13, 7, 16, 17]"
       ]
      }
     ],
     "prompt_number": 36
    },
    {
     "cell_type": "markdown",
     "metadata": {},
     "source": [
      "* sampling with replacement: use **choice** or **randrange** in a list comprehension"
     ]
    },
    {
     "cell_type": "code",
     "collapsed": false,
     "input": [
      "zs3 = [rnd.choice(s) for i in range(10)]"
     ],
     "language": "python",
     "metadata": {},
     "outputs": [],
     "prompt_number": 37
    },
    {
     "cell_type": "code",
     "collapsed": false,
     "input": [
      "zs3"
     ],
     "language": "python",
     "metadata": {},
     "outputs": [
      {
       "output_type": "pyout",
       "prompt_number": 38,
       "text": [
        "[9, 19, 17, 7, 14, 1, 8, 20, 18, 2]"
       ]
      }
     ],
     "prompt_number": 38
    },
    {
     "cell_type": "markdown",
     "metadata": {},
     "source": [
      "again, result is a list, **not** an array"
     ]
    },
    {
     "cell_type": "markdown",
     "metadata": {},
     "source": [
      "###Bootstrap###"
     ]
    },
    {
     "cell_type": "markdown",
     "metadata": {},
     "source": [
      "The bootstrap estimate is computed from a series of resampled data sets, using sampling **with replacement** from the original data set. The starting point is a point estimate obtained from the actual sample, say $\\hat{\\beta}$. The bootstrap gives a new estimate for each resampled data set, resulting in an estimate vector of length **B**, say $\\beta$. The bootstrap estimates and then computed from this vector. For example, the average would be a point estimate $\\beta_B = 1/B \\sum_{b=1}^B \\beta_b$.  \n",
      "\n",
      "The bootstrap variance-covariance matrix is estimated as $\\mbox{Var}[\\hat{\\beta}] = 1/B \\sum_{b = 1}^B (\\beta_b - \\hat{\\beta})(\\beta_b - \\hat{\\beta})'$. Note that this\n",
      " uses the actual point estimate $\\hat{\\beta}$ and not the average of the bootstrap estimates."
     ]
    },
    {
     "cell_type": "markdown",
     "metadata": {},
     "source": [
      "In this example, we will use the Columbus data set to create a **y** and **x** array and then compute a bootstrap estimate using 10 replications (note: this is way to few to obtain a reliable estimate, but it's just an illustration)."
     ]
    },
    {
     "cell_type": "markdown",
     "metadata": {},
     "source": [
      "**Setup**: read the Columbus dbf file and create arrays (see Basic OLS for instructions)"
     ]
    },
    {
     "cell_type": "code",
     "collapsed": false,
     "input": [
      "import pysal\n",
      "db = pysal.open('data/columbus.dbf','r')\n",
      "y = np.array([db.by_col(\"CRIME\")]).T\n",
      "x_names = [\"INC\",\"HOVAL\"]\n",
      "x = np.array([db.by_col(var) for var in x_names]).T\n",
      "olsbase = pysal.spreg.OLS(y,x)"
     ],
     "language": "python",
     "metadata": {},
     "outputs": [],
     "prompt_number": 57
    },
    {
     "cell_type": "markdown",
     "metadata": {},
     "source": [
      "point estimates"
     ]
    },
    {
     "cell_type": "code",
     "collapsed": false,
     "input": [
      "olsbase.betas"
     ],
     "language": "python",
     "metadata": {},
     "outputs": [
      {
       "output_type": "pyout",
       "prompt_number": 58,
       "text": [
        "array([[ 68.6189611 ],\n",
        "       [ -1.59731083],\n",
        "       [ -0.27393148]])"
       ]
      }
     ],
     "prompt_number": 58
    },
    {
     "cell_type": "markdown",
     "metadata": {},
     "source": [
      "standard errors of estimates"
     ]
    },
    {
     "cell_type": "code",
     "collapsed": false,
     "input": [
      "olsbase.std_err"
     ],
     "language": "python",
     "metadata": {},
     "outputs": [
      {
       "output_type": "pyout",
       "prompt_number": 71,
       "text": [
        "array([ 4.73548613,  0.33413076,  0.10319868])"
       ]
      }
     ],
     "prompt_number": 71
    },
    {
     "cell_type": "markdown",
     "metadata": {},
     "source": [
      "**Bootstrap estimation**"
     ]
    },
    {
     "cell_type": "markdown",
     "metadata": {},
     "source": [
      "Bootstrap the long way to keep it readable (i.e., minimize list comprehensions)"
     ]
    },
    {
     "cell_type": "code",
     "collapsed": false,
     "input": [
      "nobs = olsbase.n  # number of observations to sample from\n",
      "rep = 10  # number of bootstrap replications\n",
      "bboot = np.zeros((rep,olsbase.k))   # use olsbase.k for the number of variables\n",
      "for i in range(rep):\n",
      "    obs = [rnd.randrange(nobs) for j in range(nobs)]  # resample for each j\n",
      "    yb = y[obs]\n",
      "    xb = x[obs]\n",
      "    olsb = pysal.spreg.OLS(yb,xb)\n",
      "    bboot[i] = olsb.betas.T"
     ],
     "language": "python",
     "metadata": {},
     "outputs": [],
     "prompt_number": 59
    },
    {
     "cell_type": "markdown",
     "metadata": {},
     "source": [
      "the full array of estimates"
     ]
    },
    {
     "cell_type": "code",
     "collapsed": false,
     "input": [
      "bboot"
     ],
     "language": "python",
     "metadata": {},
     "outputs": [
      {
       "output_type": "pyout",
       "prompt_number": 60,
       "text": [
        "array([[  7.01637559e+01,  -2.30919559e+00,  -3.40292324e-02],\n",
        "       [  6.90119511e+01,  -1.55509357e+00,  -3.26317917e-01],\n",
        "       [  6.84785045e+01,  -1.42137439e+00,  -3.57627523e-01],\n",
        "       [  7.23070031e+01,  -2.15675732e+00,  -1.64612801e-01],\n",
        "       [  7.08864162e+01,  -2.08839800e+00,  -1.67714905e-01],\n",
        "       [  6.86760258e+01,  -1.01798317e+00,  -5.02833152e-01],\n",
        "       [  6.76531586e+01,  -1.64749446e+00,  -2.54499873e-01],\n",
        "       [  6.55902914e+01,  -1.58513102e+00,  -2.25171154e-01],\n",
        "       [  7.35415659e+01,  -1.41694581e+00,  -5.69303228e-01],\n",
        "       [  7.34675848e+01,  -1.73474855e+00,  -2.97979250e-01]])"
       ]
      }
     ],
     "prompt_number": 60
    },
    {
     "cell_type": "markdown",
     "metadata": {},
     "source": [
      "characteristics of the bootstrap distribution, e.g., the mean\n",
      "\n",
      "note the use of the **axis** argument to make sure mean is computed for each column"
     ]
    },
    {
     "cell_type": "code",
     "collapsed": false,
     "input": [
      "bboot.mean(axis=0)"
     ],
     "language": "python",
     "metadata": {},
     "outputs": [
      {
       "output_type": "pyout",
       "prompt_number": 61,
       "text": [
        "array([ 69.97762572,  -1.69331219,  -0.2900089 ])"
       ]
      }
     ],
     "prompt_number": 61
    },
    {
     "cell_type": "markdown",
     "metadata": {},
     "source": [
      "**Bootstrap variance-covariance matrix**"
     ]
    },
    {
     "cell_type": "markdown",
     "metadata": {},
     "source": [
      "deviations from the OLS point estimate"
     ]
    },
    {
     "cell_type": "code",
     "collapsed": false,
     "input": [
      "devb = bboot - olsbase.betas.T"
     ],
     "language": "python",
     "metadata": {},
     "outputs": [],
     "prompt_number": 62
    },
    {
     "cell_type": "markdown",
     "metadata": {},
     "source": [
      "again, long form for readability, loop to compute bootstrap variance"
     ]
    },
    {
     "cell_type": "code",
     "collapsed": false,
     "input": [
      "varbb = np.zeros((olsbase.k,olsbase.k))\n",
      "for i in range(rep):\n",
      "    dd = devb[i].reshape(olsbase.k,1)\n",
      "    varbb = varbb + np.dot(dd,dd.T)\n",
      "varbb = varbb / rep"
     ],
     "language": "python",
     "metadata": {},
     "outputs": [],
     "prompt_number": 63
    },
    {
     "cell_type": "code",
     "collapsed": false,
     "input": [
      "varbb"
     ],
     "language": "python",
     "metadata": {},
     "outputs": [
      {
       "output_type": "pyout",
       "prompt_number": 64,
       "text": [
        "array([[ 7.91536269, -0.40184966, -0.0744324 ],\n",
        "       [-0.40184966,  0.14833708, -0.04839991],\n",
        "       [-0.0744324 , -0.04839991,  0.02335089]])"
       ]
      }
     ],
     "prompt_number": 64
    },
    {
     "cell_type": "markdown",
     "metadata": {},
     "source": [
      "extract bootstrap estimate of standard deviation as square root of the diagonal elements"
     ]
    },
    {
     "cell_type": "code",
     "collapsed": false,
     "input": [
      "stdev = np.sqrt(np.diag(varbb))"
     ],
     "language": "python",
     "metadata": {},
     "outputs": [],
     "prompt_number": 65
    },
    {
     "cell_type": "code",
     "collapsed": false,
     "input": [
      "stdev"
     ],
     "language": "python",
     "metadata": {},
     "outputs": [
      {
       "output_type": "pyout",
       "prompt_number": 66,
       "text": [
        "array([ 2.81342544,  0.38514553,  0.15280998])"
       ]
      }
     ],
     "prompt_number": 66
    },
    {
     "cell_type": "markdown",
     "metadata": {},
     "source": [
      "of course with only 10 replications this is not a very good estimate"
     ]
    },
    {
     "cell_type": "markdown",
     "metadata": {},
     "source": [
      "**Graphing the distribution of the bootstrap estimates**"
     ]
    },
    {
     "cell_type": "markdown",
     "metadata": {},
     "source": [
      "To have a more realistic distribution, we will repeat the bootstrap exercise for 1000 replications.\n",
      "\n",
      "It would have been more practical to create a separate function, but we will just repeat the loop for\n",
      "now (copy and paste and replace rep by the new value)"
     ]
    },
    {
     "cell_type": "code",
     "collapsed": false,
     "input": [
      "rep = 1000"
     ],
     "language": "python",
     "metadata": {},
     "outputs": [],
     "prompt_number": 99
    },
    {
     "cell_type": "code",
     "collapsed": false,
     "input": [
      "nobs = olsbase.n  # number of observations to sample from\n",
      "bboot = np.zeros((rep,olsbase.k))   # use olsbase.k for the number of variables\n",
      "for i in range(rep):\n",
      "    obs = [rnd.randrange(nobs) for j in range(nobs)]  # resample for each j\n",
      "    yb = y[obs]\n",
      "    xb = x[obs]\n",
      "    olsb = pysal.spreg.OLS(yb,xb)\n",
      "    bboot[i] = olsb.betas.T"
     ],
     "language": "python",
     "metadata": {},
     "outputs": [],
     "prompt_number": 100
    },
    {
     "cell_type": "code",
     "collapsed": false,
     "input": [
      "bboot.mean(axis=0)"
     ],
     "language": "python",
     "metadata": {},
     "outputs": [
      {
       "output_type": "pyout",
       "prompt_number": 101,
       "text": [
        "array([ 69.27152252,  -1.65495016,  -0.27017135])"
       ]
      }
     ],
     "prompt_number": 101
    },
    {
     "cell_type": "markdown",
     "metadata": {},
     "source": [
      "take out column from a given coefficient, say the first slope"
     ]
    },
    {
     "cell_type": "code",
     "collapsed": false,
     "input": [
      "b1 = bboot[:,1]"
     ],
     "language": "python",
     "metadata": {},
     "outputs": [],
     "prompt_number": 102
    },
    {
     "cell_type": "code",
     "collapsed": false,
     "input": [
      "b1.shape"
     ],
     "language": "python",
     "metadata": {},
     "outputs": [
      {
       "output_type": "pyout",
       "prompt_number": 103,
       "text": [
        "(1000,)"
       ]
      }
     ],
     "prompt_number": 103
    },
    {
     "cell_type": "markdown",
     "metadata": {},
     "source": [
      "We will use a very simple plotting routine from matplotlib. Basically, we select a kernel\n",
      "smoother and compute it for 50 values spread between the minimum and maximum of the beta\n",
      " estimates, and then we plot a density function.\n",
      "\n",
      "First we import the kernel smoother (matplotlib is already part of the notebook if you\n",
      "started it as ipython notebook --pylab inline)"
     ]
    },
    {
     "cell_type": "code",
     "collapsed": false,
     "input": [
      "from scipy.stats import gaussian_kde"
     ],
     "language": "python",
     "metadata": {},
     "outputs": [],
     "prompt_number": 104
    },
    {
     "cell_type": "markdown",
     "metadata": {},
     "source": [
      "Now we set the steps to compute the kernel function, then compute it as density and \n",
      "plot it with the selected steps. There are many more options, but we won't get into\n",
      "them at this point."
     ]
    },
    {
     "cell_type": "code",
     "collapsed": false,
     "input": [
      "xsteps = np.linspace(b1.min(),b1.max(),50)\n",
      "density = gaussian_kde(b1)\n",
      "plot(xsteps, density(xsteps))\n",
      "xlabel('beta')\n",
      "ylabel('density')"
     ],
     "language": "python",
     "metadata": {},
     "outputs": [
      {
       "output_type": "pyout",
       "prompt_number": 105,
       "text": [
        "<matplotlib.text.Text at 0x824add0>"
       ]
      },
      {
       "output_type": "display_data",
       "png": "[encoded data removed]"
      }
     ],
     "prompt_number": 105
    },
    {
     "cell_type": "markdown",
     "metadata": {},
     "source": [
      "###Permutation Analysis###"
     ]
    },
    {
     "cell_type": "markdown",
     "metadata": {},
     "source": [
      "Use the **shuffle** function to create the indexes for a new array with randomly reshuffled elements"
     ]
    },
    {
     "cell_type": "code",
     "collapsed": false,
     "input": [
      "a = np.arange(10) + 1"
     ],
     "language": "python",
     "metadata": {},
     "outputs": [],
     "prompt_number": 106
    },
    {
     "cell_type": "code",
     "collapsed": false,
     "input": [
      "a"
     ],
     "language": "python",
     "metadata": {},
     "outputs": [
      {
       "output_type": "pyout",
       "prompt_number": 107,
       "text": [
        "array([ 1,  2,  3,  4,  5,  6,  7,  8,  9, 10])"
       ]
      }
     ],
     "prompt_number": 107
    },
    {
     "cell_type": "code",
     "collapsed": false,
     "input": [
      "permi = range(10)"
     ],
     "language": "python",
     "metadata": {},
     "outputs": [],
     "prompt_number": 108
    },
    {
     "cell_type": "code",
     "collapsed": false,
     "input": [
      "rnd.shuffle(permi)"
     ],
     "language": "python",
     "metadata": {},
     "outputs": [],
     "prompt_number": 109
    },
    {
     "cell_type": "code",
     "collapsed": false,
     "input": [
      "permi"
     ],
     "language": "python",
     "metadata": {},
     "outputs": [
      {
       "output_type": "pyout",
       "prompt_number": 110,
       "text": [
        "[5, 7, 8, 2, 9, 0, 1, 3, 4, 6]"
       ]
      }
     ],
     "prompt_number": 110
    },
    {
     "cell_type": "code",
     "collapsed": false,
     "input": [
      "ap = a[permi]"
     ],
     "language": "python",
     "metadata": {},
     "outputs": [],
     "prompt_number": 111
    },
    {
     "cell_type": "code",
     "collapsed": false,
     "input": [
      "ap"
     ],
     "language": "python",
     "metadata": {},
     "outputs": [
      {
       "output_type": "pyout",
       "prompt_number": 112,
       "text": [
        "array([ 6,  8,  9,  3, 10,  1,  2,  4,  5,  7])"
       ]
      }
     ],
     "prompt_number": 112
    },
    {
     "cell_type": "markdown",
     "metadata": {},
     "source": [
      "###Multivariate Normal Variates###"
     ]
    },
    {
     "cell_type": "markdown",
     "metadata": {},
     "source": [
      "Exploit variable transformation. To obtain a multivariate normal sample with mean Mu and variance-covariance matrix Var, first generate a vector of standard normal variates, say x. Then transform these variates as y = Mu + L.x, where L is the lower triangular matrix obtained from a Cholesky decomposition of the target variance-covariance matrix.\n",
      "\n",
      "We will need the **linalg** module to compute the Cholesky decomposition"
     ]
    },
    {
     "cell_type": "code",
     "collapsed": false,
     "input": [
      "import numpy.linalg as la"
     ],
     "language": "python",
     "metadata": {},
     "outputs": [],
     "prompt_number": 113
    },
    {
     "cell_type": "markdown",
     "metadata": {},
     "source": [
      "Create a 3 by 3 variance-covariance matrix (must be symmetric and positive definite -- check with la.det)"
     ]
    },
    {
     "cell_type": "code",
     "collapsed": false,
     "input": [
      "var = np.array([[1.0, 2.0, 4.0],\n",
      "               [2.0, 5.0, 7.0],\n",
      "               [4.0, 7.0, 30.0]])"
     ],
     "language": "python",
     "metadata": {},
     "outputs": [],
     "prompt_number": 114
    },
    {
     "cell_type": "code",
     "collapsed": false,
     "input": [
      "var"
     ],
     "language": "python",
     "metadata": {},
     "outputs": [
      {
       "output_type": "pyout",
       "prompt_number": 115,
       "text": [
        "array([[  1.,   2.,   4.],\n",
        "       [  2.,   5.,   7.],\n",
        "       [  4.,   7.,  30.]])"
       ]
      }
     ],
     "prompt_number": 115
    },
    {
     "cell_type": "code",
     "collapsed": false,
     "input": [
      "la.det(var)"
     ],
     "language": "python",
     "metadata": {},
     "outputs": [
      {
       "output_type": "pyout",
       "prompt_number": 116,
       "text": [
        "13.0"
       ]
      }
     ],
     "prompt_number": 116
    },
    {
     "cell_type": "markdown",
     "metadata": {},
     "source": [
      "obtain its Cholesky decomposition"
     ]
    },
    {
     "cell_type": "code",
     "collapsed": false,
     "input": [
      "varel = la.cholesky(var)"
     ],
     "language": "python",
     "metadata": {},
     "outputs": [],
     "prompt_number": 117
    },
    {
     "cell_type": "code",
     "collapsed": false,
     "input": [
      "varel"
     ],
     "language": "python",
     "metadata": {},
     "outputs": [
      {
       "output_type": "pyout",
       "prompt_number": 118,
       "text": [
        "array([[ 1.        ,  0.        ,  0.        ],\n",
        "       [ 2.        ,  1.        ,  0.        ],\n",
        "       [ 4.        , -1.        ,  3.60555128]])"
       ]
      }
     ],
     "prompt_number": 118
    },
    {
     "cell_type": "markdown",
     "metadata": {},
     "source": [
      "check to make sure it is correct"
     ]
    },
    {
     "cell_type": "code",
     "collapsed": false,
     "input": [
      "np.dot(varel,varel.T)"
     ],
     "language": "python",
     "metadata": {},
     "outputs": [
      {
       "output_type": "pyout",
       "prompt_number": 119,
       "text": [
        "array([[  1.,   2.,   4.],\n",
        "       [  2.,   5.,   7.],\n",
        "       [  4.,   7.,  30.]])"
       ]
      }
     ],
     "prompt_number": 119
    },
    {
     "cell_type": "markdown",
     "metadata": {},
     "source": [
      "draw a vector of standard normal variates and apply the transformation"
     ]
    },
    {
     "cell_type": "code",
     "collapsed": false,
     "input": [
      "xnorm = np.array([rnd.gauss(0,1) for i in range(3)]).reshape(3,1)"
     ],
     "language": "python",
     "metadata": {},
     "outputs": [],
     "prompt_number": 120
    },
    {
     "cell_type": "code",
     "collapsed": false,
     "input": [
      "xnorm"
     ],
     "language": "python",
     "metadata": {},
     "outputs": [
      {
       "output_type": "pyout",
       "prompt_number": 121,
       "text": [
        "array([[ 0.25215675],\n",
        "       [ 2.0058076 ],\n",
        "       [ 1.40926864]])"
       ]
      }
     ],
     "prompt_number": 121
    },
    {
     "cell_type": "code",
     "collapsed": false,
     "input": [
      "xnorm1 = np.dot(varel,xnorm)"
     ],
     "language": "python",
     "metadata": {},
     "outputs": [],
     "prompt_number": 122
    },
    {
     "cell_type": "code",
     "collapsed": false,
     "input": [
      "xnorm1"
     ],
     "language": "python",
     "metadata": {},
     "outputs": [
      {
       "output_type": "pyout",
       "prompt_number": 123,
       "text": [
        "array([[ 0.25215675],\n",
        "       [ 2.51012109],\n",
        "       [ 4.08400974]])"
       ]
      }
     ],
     "prompt_number": 123
    },
    {
     "cell_type": "markdown",
     "metadata": {},
     "source": [
      "xnorm1 has the desired multivariate normal distribution"
     ]
    },
    {
     "cell_type": "markdown",
     "metadata": {},
     "source": [
      "More random variates, distribution functions, etc. in the **scipy.stats** module"
     ]
    },
    {
     "cell_type": "markdown",
     "metadata": {},
     "source": [
      "###Assignment 5###"
     ]
    },
    {
     "cell_type": "markdown",
     "metadata": {},
     "source": [
      "* use the Baltimore house price data set to construct Bootstrap inference for the regression coefficients of PRICE on AGE, LOTSZ and FIREPL, using at least 1,000 bootstrap replications.\n",
      "\n",
      "* taking the estimated variance-covariance for the OLS estimates in the Baltimore example as a starting point (i.e., a 4 by 4 matrix), simulate 100 samples of multivariate random draws with the point estimates as mean and the given variance-covariance. compare the mean and standard deviation of the sampled parameter values to the estimates from OLS."
     ]
    }
   ],
   "metadata": {}
  }
 ]
}